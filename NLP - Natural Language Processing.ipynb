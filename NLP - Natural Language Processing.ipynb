{
 "cells": [
  {
   "cell_type": "markdown",
   "id": "de570c5a-ebfc-43ec-96f7-00d9febaa09c",
   "metadata": {},
   "source": [
    "# Natural Language Processing"
   ]
  },
  {
   "cell_type": "code",
   "execution_count": 1,
   "id": "6464359a-4a39-4de6-a59c-335b08d80966",
   "metadata": {},
   "outputs": [],
   "source": [
    "# NLTK - Natural Language Toolkit"
   ]
  },
  {
   "cell_type": "code",
   "execution_count": 2,
   "id": "7f1f4c9e-067f-4493-a210-10c3ce755f93",
   "metadata": {},
   "outputs": [],
   "source": [
    "#!pip install nltk"
   ]
  },
  {
   "cell_type": "code",
   "execution_count": 3,
   "id": "4cbce71f-1088-4197-b56b-4c61fa345c27",
   "metadata": {},
   "outputs": [],
   "source": [
    "import nltk"
   ]
  },
  {
   "cell_type": "code",
   "execution_count": 4,
   "id": "104a518e-6d7a-4c22-bd95-1aed6060e64d",
   "metadata": {},
   "outputs": [],
   "source": [
    "import warnings"
   ]
  },
  {
   "cell_type": "code",
   "execution_count": 5,
   "id": "8b4f45e3-e6ed-4b5d-9e48-2ee5d985c132",
   "metadata": {},
   "outputs": [],
   "source": [
    "warnings.filterwarnings(\"ignore\")"
   ]
  },
  {
   "cell_type": "code",
   "execution_count": 6,
   "id": "5b5bc33e-4f3f-4373-9868-033101d99c7b",
   "metadata": {},
   "outputs": [],
   "source": [
    "# nltk.download('punkt')"
   ]
  },
  {
   "cell_type": "code",
   "execution_count": 7,
   "id": "a2dc55d8-47c6-4412-8915-26a6638fdf38",
   "metadata": {},
   "outputs": [],
   "source": [
    "text = \"Yaylaya gitmişti, Gülizar döndü de Döndü dönmedi\""
   ]
  },
  {
   "cell_type": "code",
   "execution_count": 8,
   "id": "51f4d507-5498-4300-89bb-19221c856f13",
   "metadata": {},
   "outputs": [
    {
     "data": {
      "text/plain": [
       "'Yaylaya Gitmişti, Gülizar Döndü De Döndü Dönmedi'"
      ]
     },
     "execution_count": 8,
     "metadata": {},
     "output_type": "execute_result"
    }
   ],
   "source": [
    "text.title()"
   ]
  },
  {
   "cell_type": "code",
   "execution_count": 9,
   "id": "e2f2b511-86bd-4c90-b940-06af938868d7",
   "metadata": {},
   "outputs": [
    {
     "data": {
      "text/plain": [
       "'YAYLAYA GITMIŞTI, GÜLIZAR DÖNDÜ DE DÖNDÜ DÖNMEDI'"
      ]
     },
     "execution_count": 9,
     "metadata": {},
     "output_type": "execute_result"
    }
   ],
   "source": [
    "text.upper()"
   ]
  },
  {
   "cell_type": "code",
   "execution_count": 10,
   "id": "3911dcda-e548-4689-9b9b-f748833209e4",
   "metadata": {},
   "outputs": [
    {
     "data": {
      "text/plain": [
       "'yaylaya gitmişti, gülizar döndü de döndü dönmedi'"
      ]
     },
     "execution_count": 10,
     "metadata": {},
     "output_type": "execute_result"
    }
   ],
   "source": [
    "text.lower()"
   ]
  },
  {
   "cell_type": "code",
   "execution_count": 11,
   "id": "c9d7d75c-64f7-4420-8a1b-aa53d6750530",
   "metadata": {},
   "outputs": [
    {
     "data": {
      "text/plain": [
       "'Yaylaya gitmişti, Gülizar döndü de Döndü dönmedi'"
      ]
     },
     "execution_count": 11,
     "metadata": {},
     "output_type": "execute_result"
    }
   ],
   "source": [
    "text"
   ]
  },
  {
   "cell_type": "code",
   "execution_count": 12,
   "id": "64cac800-633e-4d2a-b378-d3878ed50f87",
   "metadata": {},
   "outputs": [
    {
     "data": {
      "text/plain": [
       "['Yaylaya', 'gitmişti,', 'Gülizar', 'döndü', 'de', 'Döndü', 'dönmedi']"
      ]
     },
     "execution_count": 12,
     "metadata": {},
     "output_type": "execute_result"
    }
   ],
   "source": [
    "text.split()"
   ]
  },
  {
   "cell_type": "code",
   "execution_count": 13,
   "id": "6283df7a-1164-4019-a208-0106c4e0ca48",
   "metadata": {},
   "outputs": [],
   "source": [
    "### tokenize - Cümledeki kelimeleri ayırmak ve Python listesi halile getirme"
   ]
  },
  {
   "cell_type": "code",
   "execution_count": 14,
   "id": "cacf24aa-afa0-4656-88ab-9859be477cda",
   "metadata": {},
   "outputs": [],
   "source": [
    "from nltk.tokenize import sent_tokenize"
   ]
  },
  {
   "cell_type": "code",
   "execution_count": 15,
   "id": "d84f31aa-454a-45ca-8fb3-18ff8cc9640d",
   "metadata": {},
   "outputs": [],
   "source": [
    "sentence = \"Welcome readers. I hope you find it interesting. Please do reply.\""
   ]
  },
  {
   "cell_type": "code",
   "execution_count": 16,
   "id": "71232ab0-6c84-4bd4-b54f-306a0a2d72b8",
   "metadata": {},
   "outputs": [
    {
     "data": {
      "text/plain": [
       "['Welcome readers.', 'I hope you find it interesting.', 'Please do reply.']"
      ]
     },
     "execution_count": 16,
     "metadata": {},
     "output_type": "execute_result"
    }
   ],
   "source": [
    "sent_tokenize(sentence)"
   ]
  },
  {
   "cell_type": "code",
   "execution_count": 17,
   "id": "c1a8ba09-06ec-4402-9944-2cc074b5ede1",
   "metadata": {},
   "outputs": [],
   "source": [
    "from nltk.tokenize import word_tokenize"
   ]
  },
  {
   "cell_type": "code",
   "execution_count": 18,
   "id": "1194c2c1-1447-4f49-978a-f0ea970702bd",
   "metadata": {},
   "outputs": [
    {
     "data": {
      "text/plain": [
       "['Welcome',\n",
       " 'readers',\n",
       " '.',\n",
       " 'I',\n",
       " 'hope',\n",
       " 'you',\n",
       " 'find',\n",
       " 'it',\n",
       " 'interesting',\n",
       " '.',\n",
       " 'Please',\n",
       " 'do',\n",
       " 'reply',\n",
       " '.']"
      ]
     },
     "execution_count": 18,
     "metadata": {},
     "output_type": "execute_result"
    }
   ],
   "source": [
    "word_tokenize(sentence)"
   ]
  },
  {
   "cell_type": "code",
   "execution_count": 19,
   "id": "da1272fe-bb8a-4c02-b216-7f0646df817c",
   "metadata": {},
   "outputs": [],
   "source": [
    "# Regular Expression - RE"
   ]
  },
  {
   "cell_type": "code",
   "execution_count": 20,
   "id": "f5e95a72-ee27-4031-be3e-deb09578dff9",
   "metadata": {},
   "outputs": [],
   "source": [
    "from nltk.tokenize import TreebankWordTokenizer"
   ]
  },
  {
   "cell_type": "code",
   "execution_count": 21,
   "id": "c4a1e2d0-ee42-4d29-8c4a-62ecc14842a2",
   "metadata": {},
   "outputs": [
    {
     "data": {
      "text/plain": [
       "['Welcome',\n",
       " 'readers.',\n",
       " 'I',\n",
       " 'hope',\n",
       " 'you',\n",
       " 'find',\n",
       " 'it',\n",
       " 'interesting.',\n",
       " 'Please',\n",
       " 'do',\n",
       " 'reply',\n",
       " '.']"
      ]
     },
     "execution_count": 21,
     "metadata": {},
     "output_type": "execute_result"
    }
   ],
   "source": [
    "TreebankWordTokenizer().tokenize(sentence)"
   ]
  },
  {
   "cell_type": "code",
   "execution_count": 22,
   "id": "f342bdb8-62a2-47f2-8fb0-eb68a44f09e5",
   "metadata": {},
   "outputs": [],
   "source": [
    "from nltk.tokenize import WordPunctTokenizer"
   ]
  },
  {
   "cell_type": "code",
   "execution_count": 23,
   "id": "74663667-d246-4633-8898-ed50f16d69c7",
   "metadata": {},
   "outputs": [],
   "source": [
    "tk = WordPunctTokenizer()"
   ]
  },
  {
   "cell_type": "code",
   "execution_count": 24,
   "id": "ac69d041-0ae2-4507-aa99-e81f2b1ec8ff",
   "metadata": {},
   "outputs": [
    {
     "data": {
      "text/plain": [
       "['Don', \"'\", 't', 'hesitate', 'to', 'ask', 'questions']"
      ]
     },
     "execution_count": 24,
     "metadata": {},
     "output_type": "execute_result"
    }
   ],
   "source": [
    "tk.tokenize(\"Don't hesitate to ask questions\")"
   ]
  },
  {
   "cell_type": "code",
   "execution_count": 25,
   "id": "fd61a12e-8072-4c64-b036-af4cfdf96893",
   "metadata": {},
   "outputs": [],
   "source": [
    "from nltk.tokenize import BlanklineTokenizer"
   ]
  },
  {
   "cell_type": "code",
   "execution_count": 26,
   "id": "2f202f69-aaaa-4844-ac6f-3d55d20c8070",
   "metadata": {},
   "outputs": [],
   "source": [
    "sentence2 = '''\n",
    "Merhaba Hocam\n",
    "\n",
    "Sınavdan 90 aldım 100 bekliyordum\n",
    "\n",
    "Sınıfta görüşmek üzere\n",
    "'''"
   ]
  },
  {
   "cell_type": "code",
   "execution_count": 27,
   "id": "0db78081-3bef-4f25-8228-a89c5d3f971d",
   "metadata": {},
   "outputs": [
    {
     "data": {
      "text/plain": [
       "['\\nMerhaba Hocam',\n",
       " 'Sınavdan 90 aldım 100 bekliyordum',\n",
       " 'Sınıfta görüşmek üzere\\n']"
      ]
     },
     "execution_count": 27,
     "metadata": {},
     "output_type": "execute_result"
    }
   ],
   "source": [
    "BlanklineTokenizer().tokenize(sentence2)"
   ]
  },
  {
   "cell_type": "code",
   "execution_count": 28,
   "id": "ff0cfdc2-54a6-41cd-9dc8-d1320144a2f2",
   "metadata": {},
   "outputs": [],
   "source": [
    "from nltk.tokenize import RegexpTokenizer"
   ]
  },
  {
   "cell_type": "code",
   "execution_count": 29,
   "id": "c3c42e2e-e15c-49b8-b344-77d71fb1691f",
   "metadata": {},
   "outputs": [],
   "source": [
    "#RegexpTokenizer().tokenize(sentence2)"
   ]
  },
  {
   "cell_type": "code",
   "execution_count": 30,
   "id": "100ae18a-db2a-4537-be12-f4ae60d22d13",
   "metadata": {},
   "outputs": [],
   "source": [
    "sentence3 = \"She secures 90.56% in class X. She is meritorious student\""
   ]
  },
  {
   "cell_type": "code",
   "execution_count": 31,
   "id": "f6eb21a3-d623-4ea8-a414-ed8cca0b973d",
   "metadata": {},
   "outputs": [],
   "source": [
    "cap = RegexpTokenizer('[A-Z]\\w+')\n",
    "# \\w+ o kelime bitene kadar ne varsa al anlamina geliyormus"
   ]
  },
  {
   "cell_type": "code",
   "execution_count": 32,
   "id": "2e38b5bd-137c-48f2-a3df-b694f21358c5",
   "metadata": {},
   "outputs": [
    {
     "data": {
      "text/plain": [
       "['She', 'She']"
      ]
     },
     "execution_count": 32,
     "metadata": {},
     "output_type": "execute_result"
    }
   ],
   "source": [
    "cap.tokenize(sentence3)"
   ]
  },
  {
   "cell_type": "markdown",
   "id": "f9ea7a91-99c6-40ea-ba0f-89002ff5aa60",
   "metadata": {},
   "source": [
    "## Stemma & Lemma: Ekleri Kaldirip Kokleri Bulma"
   ]
  },
  {
   "cell_type": "code",
   "execution_count": 33,
   "id": "f9428bf5-1bfa-439a-a301-eeb2b6f58d04",
   "metadata": {},
   "outputs": [],
   "source": [
    "# Stem kök hücre demektir\n",
    "from nltk.stem import PorterStemmer"
   ]
  },
  {
   "cell_type": "code",
   "execution_count": 34,
   "id": "083d4e3f-7e9d-468c-9b72-eb75ae908df9",
   "metadata": {},
   "outputs": [],
   "source": [
    "pr = PorterStemmer()"
   ]
  },
  {
   "cell_type": "code",
   "execution_count": 35,
   "id": "87431f07-5905-4526-bcba-d5df93664cef",
   "metadata": {},
   "outputs": [
    {
     "data": {
      "text/plain": [
       "'talk'"
      ]
     },
     "execution_count": 35,
     "metadata": {},
     "output_type": "execute_result"
    }
   ],
   "source": [
    "pr.stem('talking')"
   ]
  },
  {
   "cell_type": "code",
   "execution_count": 36,
   "id": "3ba1a234-6a2a-4230-967d-9bbf647ed409",
   "metadata": {},
   "outputs": [
    {
     "data": {
      "text/plain": [
       "'happi'"
      ]
     },
     "execution_count": 36,
     "metadata": {},
     "output_type": "execute_result"
    }
   ],
   "source": [
    "pr.stem('happiness')"
   ]
  },
  {
   "cell_type": "code",
   "execution_count": 37,
   "id": "c2ef4d31-cab3-41fa-96a8-d66c92738329",
   "metadata": {},
   "outputs": [
    {
     "data": {
      "text/plain": [
       "'went'"
      ]
     },
     "execution_count": 37,
     "metadata": {},
     "output_type": "execute_result"
    }
   ],
   "source": [
    "pr.stem('went')"
   ]
  },
  {
   "cell_type": "code",
   "execution_count": 38,
   "id": "9b2bf999-7c3d-4a89-9c43-67dd3c32e438",
   "metadata": {},
   "outputs": [],
   "source": [
    "words = ['houses', 'trains', 'pens', 'cars', 'eaten', 'sick', 'nice', 'bought', 'selling', 'sized', 'speech', 'rolling',\n",
    "        'marching', 'identification', 'universal', 'beautiful', 'references', ]"
   ]
  },
  {
   "cell_type": "code",
   "execution_count": 39,
   "id": "d256f164-ec7b-4b97-a89d-ca2dd270f56c",
   "metadata": {},
   "outputs": [],
   "source": [
    "# list comprehension"
   ]
  },
  {
   "cell_type": "code",
   "execution_count": 40,
   "id": "ec42dcc3-b122-45ee-9c06-50d2cdbe8827",
   "metadata": {},
   "outputs": [],
   "source": [
    "roots = [pr.stem(word) for word in words]"
   ]
  },
  {
   "cell_type": "code",
   "execution_count": 41,
   "id": "4307163f-20de-4636-be0d-69293ba4d3be",
   "metadata": {},
   "outputs": [
    {
     "data": {
      "text/plain": [
       "['hous',\n",
       " 'train',\n",
       " 'pen',\n",
       " 'car',\n",
       " 'eaten',\n",
       " 'sick',\n",
       " 'nice',\n",
       " 'bought',\n",
       " 'sell',\n",
       " 'size',\n",
       " 'speech',\n",
       " 'roll',\n",
       " 'march',\n",
       " 'identif',\n",
       " 'univers',\n",
       " 'beauti',\n",
       " 'refer']"
      ]
     },
     "execution_count": 41,
     "metadata": {},
     "output_type": "execute_result"
    }
   ],
   "source": [
    "roots"
   ]
  },
  {
   "cell_type": "code",
   "execution_count": 42,
   "id": "ad2ee668-1dbb-4bed-b051-fc06a81ad46b",
   "metadata": {},
   "outputs": [],
   "source": [
    "### Lemma Kokleri bulur, Stemma ekleri kaldirir"
   ]
  },
  {
   "cell_type": "code",
   "execution_count": 43,
   "id": "a750d7ad-e942-4b2f-a00c-0a61a4b30840",
   "metadata": {},
   "outputs": [],
   "source": [
    "from nltk.stem import WordNetLemmatizer"
   ]
  },
  {
   "cell_type": "code",
   "execution_count": 44,
   "id": "069f817d-2207-40eb-bf7a-cd9c174354fa",
   "metadata": {},
   "outputs": [],
   "source": [
    "#nltk.download('wordnet')"
   ]
  },
  {
   "cell_type": "code",
   "execution_count": 45,
   "id": "2c1099da-14e1-47a4-8ce6-3bd2ffaf3124",
   "metadata": {},
   "outputs": [],
   "source": [
    "#nltk.download('omw-1.4')"
   ]
  },
  {
   "cell_type": "code",
   "execution_count": 46,
   "id": "cdbeb383-9e61-43c8-8b34-16f7a5dd8acd",
   "metadata": {},
   "outputs": [],
   "source": [
    "lm = WordNetLemmatizer()"
   ]
  },
  {
   "cell_type": "code",
   "execution_count": 47,
   "id": "a594f489-05cc-4726-8d6a-29d69b5b40bb",
   "metadata": {},
   "outputs": [
    {
     "data": {
      "text/plain": [
       "'bought'"
      ]
     },
     "execution_count": 47,
     "metadata": {},
     "output_type": "execute_result"
    }
   ],
   "source": [
    "lm.lemmatize('bought')"
   ]
  },
  {
   "cell_type": "code",
   "execution_count": 48,
   "id": "839a798d-1d58-4dae-82d4-d04021347525",
   "metadata": {},
   "outputs": [
    {
     "data": {
      "text/plain": [
       "'work'"
      ]
     },
     "execution_count": 48,
     "metadata": {},
     "output_type": "execute_result"
    }
   ],
   "source": [
    "lm.lemmatize('working', pos = 'v')"
   ]
  },
  {
   "cell_type": "code",
   "execution_count": 49,
   "id": "f3627a8c-f3b7-42b7-88d0-925bd48e4cd3",
   "metadata": {},
   "outputs": [
    {
     "data": {
      "text/plain": [
       "'take'"
      ]
     },
     "execution_count": 49,
     "metadata": {},
     "output_type": "execute_result"
    }
   ],
   "source": [
    "lm.lemmatize('took', pos = 'v')"
   ]
  },
  {
   "cell_type": "code",
   "execution_count": 50,
   "id": "e2817c4e-c099-48f8-aabf-00bc6b5a6325",
   "metadata": {},
   "outputs": [
    {
     "data": {
      "text/plain": [
       "'run'"
      ]
     },
     "execution_count": 50,
     "metadata": {},
     "output_type": "execute_result"
    }
   ],
   "source": [
    "lm.lemmatize('ran', pos = 'v')"
   ]
  },
  {
   "cell_type": "code",
   "execution_count": 51,
   "id": "375ab889-6d63-46ba-8366-d01fdcd6ede8",
   "metadata": {},
   "outputs": [
    {
     "data": {
      "text/plain": [
       "'be'"
      ]
     },
     "execution_count": 51,
     "metadata": {},
     "output_type": "execute_result"
    }
   ],
   "source": [
    "lm.lemmatize('is', pos = 'v')"
   ]
  },
  {
   "cell_type": "code",
   "execution_count": 52,
   "id": "eaf7b106-3aa2-463b-8928-887c384d8128",
   "metadata": {},
   "outputs": [],
   "source": [
    "# part of speech (POS) Tagging Adjective, adverb, conjuction(and, or), preposition, adverb"
   ]
  },
  {
   "cell_type": "code",
   "execution_count": 53,
   "id": "4e14ef82-97fd-4330-b281-654a72c0ec5e",
   "metadata": {},
   "outputs": [],
   "source": [
    "#nltk.download('averaged_perceptron_tagger')"
   ]
  },
  {
   "cell_type": "code",
   "execution_count": 54,
   "id": "da2566e3-5f30-40c7-b883-377148ac555d",
   "metadata": {},
   "outputs": [
    {
     "data": {
      "text/plain": [
       "[('It', 'PRP'),\n",
       " ('is', 'VBZ'),\n",
       " ('a', 'DT'),\n",
       " ('pleasent', 'JJ'),\n",
       " ('day', 'NN'),\n",
       " ('today', 'NN')]"
      ]
     },
     "execution_count": 54,
     "metadata": {},
     "output_type": "execute_result"
    }
   ],
   "source": [
    "text = word_tokenize(\"It is a pleasent day today\")\n",
    "nltk.pos_tag(text)"
   ]
  },
  {
   "cell_type": "code",
   "execution_count": 55,
   "id": "91060767-2423-436c-9444-808180f495a5",
   "metadata": {},
   "outputs": [],
   "source": [
    "# pip install autocorrect"
   ]
  },
  {
   "cell_type": "code",
   "execution_count": 56,
   "id": "2be6a50d-fb14-4e6f-8423-35bfb457d273",
   "metadata": {},
   "outputs": [],
   "source": [
    "from autocorrect import spell"
   ]
  },
  {
   "cell_type": "code",
   "execution_count": 57,
   "id": "4840a3d0-0502-481a-9399-cb3edcbaa366",
   "metadata": {},
   "outputs": [
    {
     "name": "stdout",
     "output_type": "stream",
     "text": [
      "autocorrect.spell is deprecated,             use autocorrect.Speller instead\n"
     ]
    },
    {
     "data": {
      "text/plain": [
       "'Beautiful'"
      ]
     },
     "execution_count": 57,
     "metadata": {},
     "output_type": "execute_result"
    }
   ],
   "source": [
    "spell('Beutiful')"
   ]
  },
  {
   "cell_type": "code",
   "execution_count": 58,
   "id": "bc67de64-2968-4912-a7d8-39284dd92187",
   "metadata": {},
   "outputs": [
    {
     "name": "stdout",
     "output_type": "stream",
     "text": [
      "autocorrect.spell is deprecated,             use autocorrect.Speller instead\n"
     ]
    },
    {
     "data": {
      "text/plain": [
       "'The'"
      ]
     },
     "execution_count": 58,
     "metadata": {},
     "output_type": "execute_result"
    }
   ],
   "source": [
    "spell('Tghe')"
   ]
  },
  {
   "cell_type": "code",
   "execution_count": 59,
   "id": "e465b791-842e-42e6-81f6-f6cc379ac75a",
   "metadata": {},
   "outputs": [
    {
     "name": "stdout",
     "output_type": "stream",
     "text": [
      "autocorrect.spell is deprecated,             use autocorrect.Speller instead\n"
     ]
    },
    {
     "data": {
      "text/plain": [
       "'my spelling is good'"
      ]
     },
     "execution_count": 59,
     "metadata": {},
     "output_type": "execute_result"
    }
   ],
   "source": [
    "spell(\"my splliong is goad\")"
   ]
  },
  {
   "cell_type": "code",
   "execution_count": 60,
   "id": "b5d515b8-b6e7-403a-a4a3-8d3288578bd3",
   "metadata": {},
   "outputs": [],
   "source": [
    "#pip install textblob"
   ]
  },
  {
   "cell_type": "code",
   "execution_count": 61,
   "id": "7c2e2f55-ff69-41a3-930b-b85b2bdd5c7d",
   "metadata": {},
   "outputs": [],
   "source": [
    "from textblob import TextBlob"
   ]
  },
  {
   "cell_type": "code",
   "execution_count": 62,
   "id": "6226bcf6-ac59-4d3b-8b2f-c48a8c286f06",
   "metadata": {},
   "outputs": [],
   "source": [
    "b = TextBlob(\"I havv goad speling\")"
   ]
  },
  {
   "cell_type": "code",
   "execution_count": 63,
   "id": "6b2ff1aa-7167-4470-b2f5-9cdf3d47ca29",
   "metadata": {},
   "outputs": [
    {
     "data": {
      "text/plain": [
       "TextBlob(\"I have good spelling\")"
      ]
     },
     "execution_count": 63,
     "metadata": {},
     "output_type": "execute_result"
    }
   ],
   "source": [
    "b.correct()"
   ]
  },
  {
   "cell_type": "code",
   "execution_count": 64,
   "id": "b0664d0d-b3b0-4cb4-b8fe-edec3d1ae90f",
   "metadata": {},
   "outputs": [],
   "source": [
    "#pip install langdetect"
   ]
  },
  {
   "cell_type": "code",
   "execution_count": 65,
   "id": "afc3cc0b-c7e0-4ea2-bcaa-b0477a417cb8",
   "metadata": {},
   "outputs": [],
   "source": [
    "from langdetect import detect"
   ]
  },
  {
   "cell_type": "code",
   "execution_count": 66,
   "id": "15d68aca-aba5-4092-b8f0-bbe7cb26bbb5",
   "metadata": {},
   "outputs": [
    {
     "data": {
      "text/plain": [
       "'de'"
      ]
     },
     "execution_count": 66,
     "metadata": {},
     "output_type": "execute_result"
    }
   ],
   "source": [
    "detect('Ich gehe nach hause')"
   ]
  },
  {
   "cell_type": "code",
   "execution_count": 67,
   "id": "18d32975-6964-45ba-8253-9c45d9303b92",
   "metadata": {},
   "outputs": [
    {
     "data": {
      "text/plain": [
       "'ar'"
      ]
     },
     "execution_count": 67,
     "metadata": {},
     "output_type": "execute_result"
    }
   ],
   "source": [
    "detect('حسن رجل صالح')"
   ]
  },
  {
   "cell_type": "code",
   "execution_count": 68,
   "id": "5d742768-50c7-4ce4-8e4e-74c7ac6fc7f5",
   "metadata": {},
   "outputs": [],
   "source": [
    "turkish = TextBlob(\"I am a free black man from Africa\")"
   ]
  },
  {
   "cell_type": "code",
   "execution_count": 69,
   "id": "71254da7-2cfc-43e3-a1b8-5a8b66a85959",
   "metadata": {},
   "outputs": [],
   "source": [
    "# turkish.translate(from_lang = 'en', to = 'ar')"
   ]
  },
  {
   "cell_type": "code",
   "execution_count": 70,
   "id": "17d20ac3-180b-480a-884b-58a3a3f9d70c",
   "metadata": {},
   "outputs": [],
   "source": [
    "# turkish.translate(to = 'pt')\n",
    "# Hata"
   ]
  },
  {
   "cell_type": "code",
   "execution_count": 71,
   "id": "daf5042b-263a-4033-81b6-21c995ff30ba",
   "metadata": {},
   "outputs": [],
   "source": [
    "# Cevheri'den alinti\n",
    "#!pip install googletrans==4.0.0-rc1"
   ]
  },
  {
   "cell_type": "code",
   "execution_count": 72,
   "id": "b1a1eefb-52da-47a3-9f68-1e61b19ffd88",
   "metadata": {},
   "outputs": [],
   "source": [
    "from googletrans import Translator"
   ]
  },
  {
   "cell_type": "code",
   "execution_count": 73,
   "id": "dd0d13cc-fb2e-4ee7-a428-7e5adbfafe93",
   "metadata": {},
   "outputs": [],
   "source": [
    "gtr = Translator()\n",
    "#gtr.translate(\"I am a free black man from Africa\", dest='tr').text"
   ]
  },
  {
   "cell_type": "raw",
   "id": "a24a0401-5c9f-443f-81ba-b1ef3472e4b9",
   "metadata": {},
   "source": [
    "Bir NLP projesine başlarken dikkat etmek gerekenler\n",
    "1- Her seyi kucuk harfe cevir \n",
    "2- Noktalama isaretlerini kaldir\n",
    "3- Rakamlari kaldir\n",
    "4- Satir sonlarini kaldir '\\n'\n",
    "5- Stopwords gereksiz kelimeleri cikar\\\n",
    "6- Tokenize et\n",
    "7- Lemma ve stemma ile ekleri kaldir ve kokleri bul\n",
    "8- Vectorize et"
   ]
  },
  {
   "cell_type": "code",
   "execution_count": 74,
   "id": "b794ad3a-6915-4627-b51c-e9615b33a6eb",
   "metadata": {},
   "outputs": [],
   "source": [
    "# TF/IDF term frequency / Inverse Document Frequency"
   ]
  },
  {
   "cell_type": "code",
   "execution_count": 75,
   "id": "a9bab4d7-c436-4ad6-bd77-2d529e9fddda",
   "metadata": {},
   "outputs": [],
   "source": [
    "from sklearn.feature_extraction.text import CountVectorizer, TfidfVectorizer"
   ]
  },
  {
   "cell_type": "code",
   "execution_count": 76,
   "id": "abbf66a5-a9ed-447b-bfb5-0f0b9e215d7f",
   "metadata": {},
   "outputs": [],
   "source": [
    "threeSentence = [\"call you tonight\", 'call me a cab', 'please call me ... PLEASE']"
   ]
  },
  {
   "cell_type": "code",
   "execution_count": 77,
   "id": "21b77cbf-edbc-4186-acd9-7421118cea0b",
   "metadata": {},
   "outputs": [],
   "source": [
    "vect = CountVectorizer()"
   ]
  },
  {
   "cell_type": "code",
   "execution_count": 78,
   "id": "46c361f5-91e7-44ad-b07a-06de64fb5b4b",
   "metadata": {},
   "outputs": [],
   "source": [
    "import pandas as pd"
   ]
  },
  {
   "cell_type": "code",
   "execution_count": 79,
   "id": "8816b4a9-c518-4c5a-8196-c5927538101d",
   "metadata": {},
   "outputs": [],
   "source": [
    "tf = pd.DataFrame(vect.fit_transform(threeSentence).toarray(), columns = vect.get_feature_names_out())"
   ]
  },
  {
   "cell_type": "code",
   "execution_count": 80,
   "id": "e001fa33-9422-4ba0-a0aa-9b5161bfb334",
   "metadata": {},
   "outputs": [
    {
     "data": {
      "text/html": [
       "<div>\n",
       "<style scoped>\n",
       "    .dataframe tbody tr th:only-of-type {\n",
       "        vertical-align: middle;\n",
       "    }\n",
       "\n",
       "    .dataframe tbody tr th {\n",
       "        vertical-align: top;\n",
       "    }\n",
       "\n",
       "    .dataframe thead th {\n",
       "        text-align: right;\n",
       "    }\n",
       "</style>\n",
       "<table border=\"1\" class=\"dataframe\">\n",
       "  <thead>\n",
       "    <tr style=\"text-align: right;\">\n",
       "      <th></th>\n",
       "      <th>cab</th>\n",
       "      <th>call</th>\n",
       "      <th>me</th>\n",
       "      <th>please</th>\n",
       "      <th>tonight</th>\n",
       "      <th>you</th>\n",
       "    </tr>\n",
       "  </thead>\n",
       "  <tbody>\n",
       "    <tr>\n",
       "      <th>0</th>\n",
       "      <td>0</td>\n",
       "      <td>1</td>\n",
       "      <td>0</td>\n",
       "      <td>0</td>\n",
       "      <td>1</td>\n",
       "      <td>1</td>\n",
       "    </tr>\n",
       "    <tr>\n",
       "      <th>1</th>\n",
       "      <td>1</td>\n",
       "      <td>1</td>\n",
       "      <td>1</td>\n",
       "      <td>0</td>\n",
       "      <td>0</td>\n",
       "      <td>0</td>\n",
       "    </tr>\n",
       "    <tr>\n",
       "      <th>2</th>\n",
       "      <td>0</td>\n",
       "      <td>1</td>\n",
       "      <td>1</td>\n",
       "      <td>2</td>\n",
       "      <td>0</td>\n",
       "      <td>0</td>\n",
       "    </tr>\n",
       "  </tbody>\n",
       "</table>\n",
       "</div>"
      ],
      "text/plain": [
       "   cab  call  me  please  tonight  you\n",
       "0    0     1   0       0        1    1\n",
       "1    1     1   1       0        0    0\n",
       "2    0     1   1       2        0    0"
      ]
     },
     "execution_count": 80,
     "metadata": {},
     "output_type": "execute_result"
    }
   ],
   "source": [
    "tf"
   ]
  },
  {
   "cell_type": "code",
   "execution_count": 81,
   "id": "17575bb9-9240-4be7-b8f6-67a8ba113645",
   "metadata": {},
   "outputs": [],
   "source": [
    "# not DataFrame\n",
    "# Document Frequency\n",
    "df = vect.fit_transform(threeSentence).toarray().sum(axis = 0)"
   ]
  },
  {
   "cell_type": "code",
   "execution_count": 82,
   "id": "f8d30c25-13b1-48af-9ef6-8b233379e4c6",
   "metadata": {},
   "outputs": [
    {
     "data": {
      "text/plain": [
       "array([1, 3, 2, 2, 1, 1], dtype=int64)"
      ]
     },
     "execution_count": 82,
     "metadata": {},
     "output_type": "execute_result"
    }
   ],
   "source": [
    "df\n",
    "# 1. kelime(cab) 1 defa gecmis\n",
    "# 2. kelime(call) 3 defa gecmis gibi..."
   ]
  },
  {
   "cell_type": "code",
   "execution_count": 83,
   "id": "dbd54ae6-c285-4cae-8927-6ef958390a4c",
   "metadata": {},
   "outputs": [
    {
     "data": {
      "text/html": [
       "<div>\n",
       "<style scoped>\n",
       "    .dataframe tbody tr th:only-of-type {\n",
       "        vertical-align: middle;\n",
       "    }\n",
       "\n",
       "    .dataframe tbody tr th {\n",
       "        vertical-align: top;\n",
       "    }\n",
       "\n",
       "    .dataframe thead th {\n",
       "        text-align: right;\n",
       "    }\n",
       "</style>\n",
       "<table border=\"1\" class=\"dataframe\">\n",
       "  <thead>\n",
       "    <tr style=\"text-align: right;\">\n",
       "      <th></th>\n",
       "      <th>cab</th>\n",
       "      <th>call</th>\n",
       "      <th>me</th>\n",
       "      <th>please</th>\n",
       "      <th>tonight</th>\n",
       "      <th>you</th>\n",
       "    </tr>\n",
       "  </thead>\n",
       "  <tbody>\n",
       "    <tr>\n",
       "      <th>0</th>\n",
       "      <td>0.0</td>\n",
       "      <td>0.333333</td>\n",
       "      <td>0.0</td>\n",
       "      <td>0.0</td>\n",
       "      <td>1.0</td>\n",
       "      <td>1.0</td>\n",
       "    </tr>\n",
       "    <tr>\n",
       "      <th>1</th>\n",
       "      <td>1.0</td>\n",
       "      <td>0.333333</td>\n",
       "      <td>0.5</td>\n",
       "      <td>0.0</td>\n",
       "      <td>0.0</td>\n",
       "      <td>0.0</td>\n",
       "    </tr>\n",
       "    <tr>\n",
       "      <th>2</th>\n",
       "      <td>0.0</td>\n",
       "      <td>0.333333</td>\n",
       "      <td>0.5</td>\n",
       "      <td>1.0</td>\n",
       "      <td>0.0</td>\n",
       "      <td>0.0</td>\n",
       "    </tr>\n",
       "  </tbody>\n",
       "</table>\n",
       "</div>"
      ],
      "text/plain": [
       "   cab      call   me  please  tonight  you\n",
       "0  0.0  0.333333  0.0     0.0      1.0  1.0\n",
       "1  1.0  0.333333  0.5     0.0      0.0  0.0\n",
       "2  0.0  0.333333  0.5     1.0      0.0  0.0"
      ]
     },
     "execution_count": 83,
     "metadata": {},
     "output_type": "execute_result"
    }
   ],
   "source": [
    "tf / df\n",
    "# Inverse Document Frequency = tf / df"
   ]
  },
  {
   "cell_type": "code",
   "execution_count": 84,
   "id": "98bdbbc0-e844-4523-bbc1-94c7a8f85ca6",
   "metadata": {},
   "outputs": [],
   "source": [
    "# NLP - Project - Restaurant Review Project"
   ]
  },
  {
   "cell_type": "code",
   "execution_count": 85,
   "id": "8fa2c55b-edff-4a77-a108-0664a7160442",
   "metadata": {},
   "outputs": [],
   "source": [
    "df = pd.read_csv(\"yelp.csv\")"
   ]
  },
  {
   "cell_type": "code",
   "execution_count": 86,
   "id": "d4209fa3-88f9-4796-b367-41c1ee16fa34",
   "metadata": {},
   "outputs": [
    {
     "data": {
      "text/html": [
       "<div>\n",
       "<style scoped>\n",
       "    .dataframe tbody tr th:only-of-type {\n",
       "        vertical-align: middle;\n",
       "    }\n",
       "\n",
       "    .dataframe tbody tr th {\n",
       "        vertical-align: top;\n",
       "    }\n",
       "\n",
       "    .dataframe thead th {\n",
       "        text-align: right;\n",
       "    }\n",
       "</style>\n",
       "<table border=\"1\" class=\"dataframe\">\n",
       "  <thead>\n",
       "    <tr style=\"text-align: right;\">\n",
       "      <th></th>\n",
       "      <th>business_id</th>\n",
       "      <th>date</th>\n",
       "      <th>review_id</th>\n",
       "      <th>stars</th>\n",
       "      <th>text</th>\n",
       "      <th>type</th>\n",
       "      <th>user_id</th>\n",
       "      <th>cool</th>\n",
       "      <th>useful</th>\n",
       "      <th>funny</th>\n",
       "    </tr>\n",
       "  </thead>\n",
       "  <tbody>\n",
       "    <tr>\n",
       "      <th>0</th>\n",
       "      <td>9yKzy9PApeiPPOUJEtnvkg</td>\n",
       "      <td>2011-01-26</td>\n",
       "      <td>fWKvX83p0-ka4JS3dc6E5A</td>\n",
       "      <td>5</td>\n",
       "      <td>My wife took me here on my birthday for breakf...</td>\n",
       "      <td>review</td>\n",
       "      <td>rLtl8ZkDX5vH5nAx9C3q5Q</td>\n",
       "      <td>2</td>\n",
       "      <td>5</td>\n",
       "      <td>0</td>\n",
       "    </tr>\n",
       "    <tr>\n",
       "      <th>1</th>\n",
       "      <td>ZRJwVLyzEJq1VAihDhYiow</td>\n",
       "      <td>2011-07-27</td>\n",
       "      <td>IjZ33sJrzXqU-0X6U8NwyA</td>\n",
       "      <td>5</td>\n",
       "      <td>I have no idea why some people give bad review...</td>\n",
       "      <td>review</td>\n",
       "      <td>0a2KyEL0d3Yb1V6aivbIuQ</td>\n",
       "      <td>0</td>\n",
       "      <td>0</td>\n",
       "      <td>0</td>\n",
       "    </tr>\n",
       "    <tr>\n",
       "      <th>2</th>\n",
       "      <td>6oRAC4uyJCsJl1X0WZpVSA</td>\n",
       "      <td>2012-06-14</td>\n",
       "      <td>IESLBzqUCLdSzSqm0eCSxQ</td>\n",
       "      <td>4</td>\n",
       "      <td>love the gyro plate. Rice is so good and I als...</td>\n",
       "      <td>review</td>\n",
       "      <td>0hT2KtfLiobPvh6cDC8JQg</td>\n",
       "      <td>0</td>\n",
       "      <td>1</td>\n",
       "      <td>0</td>\n",
       "    </tr>\n",
       "    <tr>\n",
       "      <th>3</th>\n",
       "      <td>_1QQZuf4zZOyFCvXc0o6Vg</td>\n",
       "      <td>2010-05-27</td>\n",
       "      <td>G-WvGaISbqqaMHlNnByodA</td>\n",
       "      <td>5</td>\n",
       "      <td>Rosie, Dakota, and I LOVE Chaparral Dog Park!!...</td>\n",
       "      <td>review</td>\n",
       "      <td>uZetl9T0NcROGOyFfughhg</td>\n",
       "      <td>1</td>\n",
       "      <td>2</td>\n",
       "      <td>0</td>\n",
       "    </tr>\n",
       "    <tr>\n",
       "      <th>4</th>\n",
       "      <td>6ozycU1RpktNG2-1BroVtw</td>\n",
       "      <td>2012-01-05</td>\n",
       "      <td>1uJFq2r5QfJG_6ExMRCaGw</td>\n",
       "      <td>5</td>\n",
       "      <td>General Manager Scott Petello is a good egg!!!...</td>\n",
       "      <td>review</td>\n",
       "      <td>vYmM4KTsC8ZfQBg-j5MWkw</td>\n",
       "      <td>0</td>\n",
       "      <td>0</td>\n",
       "      <td>0</td>\n",
       "    </tr>\n",
       "  </tbody>\n",
       "</table>\n",
       "</div>"
      ],
      "text/plain": [
       "              business_id        date               review_id  stars  \\\n",
       "0  9yKzy9PApeiPPOUJEtnvkg  2011-01-26  fWKvX83p0-ka4JS3dc6E5A      5   \n",
       "1  ZRJwVLyzEJq1VAihDhYiow  2011-07-27  IjZ33sJrzXqU-0X6U8NwyA      5   \n",
       "2  6oRAC4uyJCsJl1X0WZpVSA  2012-06-14  IESLBzqUCLdSzSqm0eCSxQ      4   \n",
       "3  _1QQZuf4zZOyFCvXc0o6Vg  2010-05-27  G-WvGaISbqqaMHlNnByodA      5   \n",
       "4  6ozycU1RpktNG2-1BroVtw  2012-01-05  1uJFq2r5QfJG_6ExMRCaGw      5   \n",
       "\n",
       "                                                text    type  \\\n",
       "0  My wife took me here on my birthday for breakf...  review   \n",
       "1  I have no idea why some people give bad review...  review   \n",
       "2  love the gyro plate. Rice is so good and I als...  review   \n",
       "3  Rosie, Dakota, and I LOVE Chaparral Dog Park!!...  review   \n",
       "4  General Manager Scott Petello is a good egg!!!...  review   \n",
       "\n",
       "                  user_id  cool  useful  funny  \n",
       "0  rLtl8ZkDX5vH5nAx9C3q5Q     2       5      0  \n",
       "1  0a2KyEL0d3Yb1V6aivbIuQ     0       0      0  \n",
       "2  0hT2KtfLiobPvh6cDC8JQg     0       1      0  \n",
       "3  uZetl9T0NcROGOyFfughhg     1       2      0  \n",
       "4  vYmM4KTsC8ZfQBg-j5MWkw     0       0      0  "
      ]
     },
     "execution_count": 86,
     "metadata": {},
     "output_type": "execute_result"
    }
   ],
   "source": [
    "df.head()"
   ]
  },
  {
   "cell_type": "code",
   "execution_count": 87,
   "id": "55e4c89c-fbeb-474b-acb2-dae8720479c8",
   "metadata": {},
   "outputs": [
    {
     "data": {
      "text/html": [
       "<div>\n",
       "<style scoped>\n",
       "    .dataframe tbody tr th:only-of-type {\n",
       "        vertical-align: middle;\n",
       "    }\n",
       "\n",
       "    .dataframe tbody tr th {\n",
       "        vertical-align: top;\n",
       "    }\n",
       "\n",
       "    .dataframe thead th {\n",
       "        text-align: right;\n",
       "    }\n",
       "</style>\n",
       "<table border=\"1\" class=\"dataframe\">\n",
       "  <thead>\n",
       "    <tr style=\"text-align: right;\">\n",
       "      <th></th>\n",
       "      <th>business_id</th>\n",
       "      <th>date</th>\n",
       "      <th>review_id</th>\n",
       "      <th>stars</th>\n",
       "      <th>text</th>\n",
       "      <th>type</th>\n",
       "      <th>user_id</th>\n",
       "      <th>cool</th>\n",
       "      <th>useful</th>\n",
       "      <th>funny</th>\n",
       "    </tr>\n",
       "  </thead>\n",
       "  <tbody>\n",
       "    <tr>\n",
       "      <th>6099</th>\n",
       "      <td>Lc3-XLmobyijQpOxHdEPFQ</td>\n",
       "      <td>2011-01-03</td>\n",
       "      <td>O9Sdhe5YEAXKJbNYuQq4wg</td>\n",
       "      <td>5</td>\n",
       "      <td>A must!  One of the BEST dog food stores in th...</td>\n",
       "      <td>review</td>\n",
       "      <td>nLPHUC9ZMCG1xm86_1xqjQ</td>\n",
       "      <td>0</td>\n",
       "      <td>1</td>\n",
       "      <td>0</td>\n",
       "    </tr>\n",
       "    <tr>\n",
       "      <th>6527</th>\n",
       "      <td>z3zcsnK26QhC7TqDX73zvA</td>\n",
       "      <td>2008-10-27</td>\n",
       "      <td>fawi1OaSuc66NU5DOAg3WQ</td>\n",
       "      <td>2</td>\n",
       "      <td>I am a steak lover but I must say this wouldn'...</td>\n",
       "      <td>review</td>\n",
       "      <td>bXJ9U9e_zn8K1xKwqTArzw</td>\n",
       "      <td>0</td>\n",
       "      <td>2</td>\n",
       "      <td>0</td>\n",
       "    </tr>\n",
       "    <tr>\n",
       "      <th>2529</th>\n",
       "      <td>_tkAI5Q5XQSfgbqJzDKSDQ</td>\n",
       "      <td>2012-12-29</td>\n",
       "      <td>RVwRifohk5iAh2vNYgmudA</td>\n",
       "      <td>3</td>\n",
       "      <td>My experience at Old Town Tortilla Factory is ...</td>\n",
       "      <td>review</td>\n",
       "      <td>fbxlboEmXOv6TiznpXgdyg</td>\n",
       "      <td>0</td>\n",
       "      <td>1</td>\n",
       "      <td>0</td>\n",
       "    </tr>\n",
       "    <tr>\n",
       "      <th>2546</th>\n",
       "      <td>cc9KFNrcY9gA7t9D1a3FpA</td>\n",
       "      <td>2009-07-27</td>\n",
       "      <td>OyeCwTBytSU4f6-j7GI2yA</td>\n",
       "      <td>3</td>\n",
       "      <td>Not a bad place.  Pizza was good but stay away...</td>\n",
       "      <td>review</td>\n",
       "      <td>DN5GgGgpr4Fy7TFe41QLrw</td>\n",
       "      <td>0</td>\n",
       "      <td>1</td>\n",
       "      <td>0</td>\n",
       "    </tr>\n",
       "    <tr>\n",
       "      <th>7235</th>\n",
       "      <td>t4pkeGscooStLjy-Js5Byw</td>\n",
       "      <td>2010-03-17</td>\n",
       "      <td>uVGEIIXxZVNTNxwwn9-wGw</td>\n",
       "      <td>3</td>\n",
       "      <td>As a fairly new connoisseur of Greek food, thi...</td>\n",
       "      <td>review</td>\n",
       "      <td>sMIOqXFpm6XuBlaokNdpAA</td>\n",
       "      <td>0</td>\n",
       "      <td>0</td>\n",
       "      <td>0</td>\n",
       "    </tr>\n",
       "  </tbody>\n",
       "</table>\n",
       "</div>"
      ],
      "text/plain": [
       "                 business_id        date               review_id  stars  \\\n",
       "6099  Lc3-XLmobyijQpOxHdEPFQ  2011-01-03  O9Sdhe5YEAXKJbNYuQq4wg      5   \n",
       "6527  z3zcsnK26QhC7TqDX73zvA  2008-10-27  fawi1OaSuc66NU5DOAg3WQ      2   \n",
       "2529  _tkAI5Q5XQSfgbqJzDKSDQ  2012-12-29  RVwRifohk5iAh2vNYgmudA      3   \n",
       "2546  cc9KFNrcY9gA7t9D1a3FpA  2009-07-27  OyeCwTBytSU4f6-j7GI2yA      3   \n",
       "7235  t4pkeGscooStLjy-Js5Byw  2010-03-17  uVGEIIXxZVNTNxwwn9-wGw      3   \n",
       "\n",
       "                                                   text    type  \\\n",
       "6099  A must!  One of the BEST dog food stores in th...  review   \n",
       "6527  I am a steak lover but I must say this wouldn'...  review   \n",
       "2529  My experience at Old Town Tortilla Factory is ...  review   \n",
       "2546  Not a bad place.  Pizza was good but stay away...  review   \n",
       "7235  As a fairly new connoisseur of Greek food, thi...  review   \n",
       "\n",
       "                     user_id  cool  useful  funny  \n",
       "6099  nLPHUC9ZMCG1xm86_1xqjQ     0       1      0  \n",
       "6527  bXJ9U9e_zn8K1xKwqTArzw     0       2      0  \n",
       "2529  fbxlboEmXOv6TiznpXgdyg     0       1      0  \n",
       "2546  DN5GgGgpr4Fy7TFe41QLrw     0       1      0  \n",
       "7235  sMIOqXFpm6XuBlaokNdpAA     0       0      0  "
      ]
     },
     "execution_count": 87,
     "metadata": {},
     "output_type": "execute_result"
    }
   ],
   "source": [
    "df.sample(5)"
   ]
  },
  {
   "cell_type": "code",
   "execution_count": 88,
   "id": "44da3a93-83bf-4df0-ad56-6f151c6c037b",
   "metadata": {},
   "outputs": [
    {
     "name": "stdout",
     "output_type": "stream",
     "text": [
      "<class 'pandas.core.frame.DataFrame'>\n",
      "RangeIndex: 10000 entries, 0 to 9999\n",
      "Data columns (total 10 columns):\n",
      " #   Column       Non-Null Count  Dtype \n",
      "---  ------       --------------  ----- \n",
      " 0   business_id  10000 non-null  object\n",
      " 1   date         10000 non-null  object\n",
      " 2   review_id    10000 non-null  object\n",
      " 3   stars        10000 non-null  int64 \n",
      " 4   text         10000 non-null  object\n",
      " 5   type         10000 non-null  object\n",
      " 6   user_id      10000 non-null  object\n",
      " 7   cool         10000 non-null  int64 \n",
      " 8   useful       10000 non-null  int64 \n",
      " 9   funny        10000 non-null  int64 \n",
      "dtypes: int64(4), object(6)\n",
      "memory usage: 781.4+ KB\n"
     ]
    }
   ],
   "source": [
    "df.info()"
   ]
  },
  {
   "cell_type": "code",
   "execution_count": 89,
   "id": "004b3bbc-ca94-4447-8493-639d3db25e67",
   "metadata": {},
   "outputs": [
    {
     "data": {
      "text/plain": [
       "(10000, 10)"
      ]
     },
     "execution_count": 89,
     "metadata": {},
     "output_type": "execute_result"
    }
   ],
   "source": [
    "df.shape"
   ]
  },
  {
   "cell_type": "code",
   "execution_count": 90,
   "id": "d907b1fb-0ff8-478d-9bd4-af43d72e9922",
   "metadata": {},
   "outputs": [
    {
     "data": {
      "text/plain": [
       "Index(['business_id', 'date', 'review_id', 'stars', 'text', 'type', 'user_id',\n",
       "       'cool', 'useful', 'funny'],\n",
       "      dtype='object')"
      ]
     },
     "execution_count": 90,
     "metadata": {},
     "output_type": "execute_result"
    }
   ],
   "source": [
    "df.columns"
   ]
  },
  {
   "cell_type": "code",
   "execution_count": 91,
   "id": "40e445af-e964-4b0e-8342-3c7aa54d919a",
   "metadata": {},
   "outputs": [
    {
     "data": {
      "text/plain": [
       "'Cliff notes\\n- Cheap: $1-2/plate\\n- Fast: It\\'s ready-to-go and on a conveyor\\n- Acceptable quality: I\\'m here weekly and haven\\'t gotten sick lol\\n\\nThis place is definitely good for what it is, \"it\" being a budget-friendly sushi place that\\'s great for a quick bite.  In a response to the lower-rating reviews stating how the food is just okay at best or authentic or blah blah blah, well think of it like wal-mart vs. *inserthighendretailerhere*.  This place has a business model based on selling in large volumes (hence the low prices like wal-mart) so they\\'re gonna have to \"reduce costs\" somehow (so-so quality food, not-so-attentive staff, and slightly smaller than average portions), but it\\'s still a solid bang-for-your-buck kinda place.\\n\\nOn top of this, I can be in and out quickly since everything is already prepared, perfect for those quick 30 min lunch breaks.  All that\\'s required is for you to grab it off the conveyor (depending on whether or not all the items you want are on the conveyor at the time). \\n\\nI\\'ve never had issues with seating, but do not make a point to go during peak hours and usually go with a small party (2-4 people).\\n\\nFor those claiming to be \"left to fend for themselves\" due to an inattentive staff, most of your sushi-related inquiries can be answered by this thing called \"the menu\" that sits on the counters.  See, this miraculous piece of technology contains things referred to as \"descriptions\" on them that help to inform you about the sushi going round-and-round before you.  Furthermore, there\\'s even a pricing guide based on the color code of the plates to assist you further! WOW! Lol wtf do people expect for $1-2 plates of sushi?  Someone to hold your hand? LOLOLOLOLOLOLOL DIAF\\n\\nAnd the cherry on top? $4 large japanese beers and $5 sake bombs! HELL YEAH!'"
      ]
     },
     "execution_count": 91,
     "metadata": {},
     "output_type": "execute_result"
    }
   ],
   "source": [
    "df.text[50]"
   ]
  },
  {
   "cell_type": "raw",
   "id": "36bab5af-25bd-4b79-9a2e-382c7401f7f1",
   "metadata": {},
   "source": [
    "Bir NLP projesine başlarken dikkat etmek gerekenler\n",
    "1- Her seyi kucuk harfe cevir \n",
    "2- Noktalama isaretlerini kaldir\n",
    "3- Rakamlari kaldir\n",
    "4- Satir sonlarini kaldir '\\n'\n",
    "5- Stopwords gereksiz kelimeleri cikar\\\n",
    "6- Tokenize et\n",
    "7- Lemma ve stemma ile ekleri kaldir ve kokleri bul\n",
    "8- Vectorize et"
   ]
  },
  {
   "cell_type": "code",
   "execution_count": 92,
   "id": "76473e15-31a0-45ac-a05b-d1d28eb3e54c",
   "metadata": {},
   "outputs": [],
   "source": [
    "df['text'] = df['text'].str.lower()"
   ]
  },
  {
   "cell_type": "code",
   "execution_count": 93,
   "id": "4641129e-1468-4aee-831b-a024b947e032",
   "metadata": {},
   "outputs": [
    {
     "data": {
      "text/plain": [
       "'my wife took me here on my birthday for breakfast and it was excellent.  the weather was perfect which made sitting outside overlooking their grounds an absolute pleasure.  our waitress was excellent and our food arrived quickly on the semi-busy saturday morning.  it looked like the place fills up pretty quickly so the earlier you get here the better.\\n\\ndo yourself a favor and get their bloody mary.  it was phenomenal and simply the best i\\'ve ever had.  i\\'m pretty sure they only use ingredients from their garden and blend them fresh when you order it.  it was amazing.\\n\\nwhile everything on the menu looks excellent, i had the white truffle scrambled eggs vegetable skillet and it was tasty and delicious.  it came with 2 pieces of their griddled bread with was amazing and it absolutely made the meal complete.  it was the best \"toast\" i\\'ve ever had.\\n\\nanyway, i can\\'t wait to go back!'"
      ]
     },
     "execution_count": 93,
     "metadata": {},
     "output_type": "execute_result"
    }
   ],
   "source": [
    "df['text'][0]"
   ]
  },
  {
   "cell_type": "code",
   "execution_count": 94,
   "id": "a075af49-dc82-45c7-84ea-9970d5da8be3",
   "metadata": {},
   "outputs": [],
   "source": [
    "df['text'] = df['text'].str.replace('[^a-zA-Z\\\\s]','',regex=True)"
   ]
  },
  {
   "cell_type": "code",
   "execution_count": 95,
   "id": "995aed05-3234-40d9-994a-1a1f3471baef",
   "metadata": {},
   "outputs": [],
   "source": [
    "df['text'] = df['text'].str.replace('\\n','') # bosluk satir atlamarini kaldir"
   ]
  },
  {
   "cell_type": "code",
   "execution_count": 96,
   "id": "b38ae639-4abd-420f-bac9-c2659fff1190",
   "metadata": {},
   "outputs": [
    {
     "data": {
      "text/plain": [
       "'my wife took me here on my birthday for breakfast and it was excellent  the weather was perfect which made sitting outside overlooking their grounds an absolute pleasure  our waitress was excellent and our food arrived quickly on the semibusy saturday morning  it looked like the place fills up pretty quickly so the earlier you get here the betterdo yourself a favor and get their bloody mary  it was phenomenal and simply the best ive ever had  im pretty sure they only use ingredients from their garden and blend them fresh when you order it  it was amazingwhile everything on the menu looks excellent i had the white truffle scrambled eggs vegetable skillet and it was tasty and delicious  it came with  pieces of their griddled bread with was amazing and it absolutely made the meal complete  it was the best toast ive ever hadanyway i cant wait to go back'"
      ]
     },
     "execution_count": 96,
     "metadata": {},
     "output_type": "execute_result"
    }
   ],
   "source": [
    "df['text'][0]"
   ]
  },
  {
   "cell_type": "code",
   "execution_count": 97,
   "id": "4a236b1f-92e7-47db-8be5-ecde853eda06",
   "metadata": {},
   "outputs": [],
   "source": [
    "df['text'] = df['text'].str.replace('\\r', '')"
   ]
  },
  {
   "cell_type": "code",
   "execution_count": 98,
   "id": "411d2187-d4a0-4c1b-810e-3098a7e89b86",
   "metadata": {},
   "outputs": [
    {
     "data": {
      "text/plain": [
       "'my wife took me here on my birthday for breakfast and it was excellent  the weather was perfect which made sitting outside overlooking their grounds an absolute pleasure  our waitress was excellent and our food arrived quickly on the semibusy saturday morning  it looked like the place fills up pretty quickly so the earlier you get here the betterdo yourself a favor and get their bloody mary  it was phenomenal and simply the best ive ever had  im pretty sure they only use ingredients from their garden and blend them fresh when you order it  it was amazingwhile everything on the menu looks excellent i had the white truffle scrambled eggs vegetable skillet and it was tasty and delicious  it came with  pieces of their griddled bread with was amazing and it absolutely made the meal complete  it was the best toast ive ever hadanyway i cant wait to go back'"
      ]
     },
     "execution_count": 98,
     "metadata": {},
     "output_type": "execute_result"
    }
   ],
   "source": [
    "df['text'][0]"
   ]
  },
  {
   "cell_type": "code",
   "execution_count": 99,
   "id": "ca6f5443-9395-4d11-ad00-039b02004eb0",
   "metadata": {},
   "outputs": [],
   "source": [
    "import seaborn as sns"
   ]
  },
  {
   "cell_type": "code",
   "execution_count": 100,
   "id": "710eeae1-7bf0-4f99-a275-74995d9c3e41",
   "metadata": {},
   "outputs": [
    {
     "data": {
      "text/plain": [
       "<Axes: xlabel='stars', ylabel='count'>"
      ]
     },
     "execution_count": 100,
     "metadata": {},
     "output_type": "execute_result"
    },
    {
     "data": {
      "image/png": "[encoded data removed]",
      "text/plain": [
       "<Figure size 640x480 with 1 Axes>"
      ]
     },
     "metadata": {},
     "output_type": "display_data"
    }
   ],
   "source": [
    "sns.countplot(x = df['stars'], palette='viridis')"
   ]
  },
  {
   "cell_type": "markdown",
   "id": "4f38745a-e244-4479-926d-96989f566387",
   "metadata": {},
   "source": [
    "### Sentiment Analysis"
   ]
  },
  {
   "cell_type": "code",
   "execution_count": 101,
   "id": "8a505f64-3ca9-4a36-aec8-9c1a7c483286",
   "metadata": {},
   "outputs": [
    {
     "data": {
      "text/html": [
       "<div>\n",
       "<style scoped>\n",
       "    .dataframe tbody tr th:only-of-type {\n",
       "        vertical-align: middle;\n",
       "    }\n",
       "\n",
       "    .dataframe tbody tr th {\n",
       "        vertical-align: top;\n",
       "    }\n",
       "\n",
       "    .dataframe thead th {\n",
       "        text-align: right;\n",
       "    }\n",
       "</style>\n",
       "<table border=\"1\" class=\"dataframe\">\n",
       "  <thead>\n",
       "    <tr style=\"text-align: right;\">\n",
       "      <th></th>\n",
       "      <th>business_id</th>\n",
       "      <th>date</th>\n",
       "      <th>review_id</th>\n",
       "      <th>stars</th>\n",
       "      <th>text</th>\n",
       "      <th>type</th>\n",
       "      <th>user_id</th>\n",
       "      <th>cool</th>\n",
       "      <th>useful</th>\n",
       "      <th>funny</th>\n",
       "    </tr>\n",
       "  </thead>\n",
       "  <tbody>\n",
       "    <tr>\n",
       "      <th>3191</th>\n",
       "      <td>PmPOuRvuN3CoNOi1nBj_TQ</td>\n",
       "      <td>2012-06-21</td>\n",
       "      <td>x7_j5hVUCh_g3o9M5Q8-1A</td>\n",
       "      <td>2</td>\n",
       "      <td>this  stars is extremely generous wanna know w...</td>\n",
       "      <td>review</td>\n",
       "      <td>k7lKu0DYaMngcn9XW7yibA</td>\n",
       "      <td>0</td>\n",
       "      <td>2</td>\n",
       "      <td>0</td>\n",
       "    </tr>\n",
       "    <tr>\n",
       "      <th>5733</th>\n",
       "      <td>SjFl_V6BTGkmv4tbub-AVw</td>\n",
       "      <td>2008-02-05</td>\n",
       "      <td>4lCt_bkdMwjfbaBottTdDA</td>\n",
       "      <td>4</td>\n",
       "      <td>referring  to mickeys as a  dive bar is like r...</td>\n",
       "      <td>review</td>\n",
       "      <td>-F32Vl8Rk4dwsmk0f2wRIw</td>\n",
       "      <td>2</td>\n",
       "      <td>3</td>\n",
       "      <td>3</td>\n",
       "    </tr>\n",
       "  </tbody>\n",
       "</table>\n",
       "</div>"
      ],
      "text/plain": [
       "                 business_id        date               review_id  stars  \\\n",
       "3191  PmPOuRvuN3CoNOi1nBj_TQ  2012-06-21  x7_j5hVUCh_g3o9M5Q8-1A      2   \n",
       "5733  SjFl_V6BTGkmv4tbub-AVw  2008-02-05  4lCt_bkdMwjfbaBottTdDA      4   \n",
       "\n",
       "                                                   text    type  \\\n",
       "3191  this  stars is extremely generous wanna know w...  review   \n",
       "5733  referring  to mickeys as a  dive bar is like r...  review   \n",
       "\n",
       "                     user_id  cool  useful  funny  \n",
       "3191  k7lKu0DYaMngcn9XW7yibA     0       2      0  \n",
       "5733  -F32Vl8Rk4dwsmk0f2wRIw     2       3      3  "
      ]
     },
     "execution_count": 101,
     "metadata": {},
     "output_type": "execute_result"
    }
   ],
   "source": [
    "df.sample(2)"
   ]
  },
  {
   "cell_type": "code",
   "execution_count": 102,
   "id": "3d08d65e-79d2-4283-8279-6ef569842a39",
   "metadata": {},
   "outputs": [],
   "source": [
    "yelpbw = df[(df.stars == 1) | (df.stars == 5)]  # 5 yildiz ve 1 yildizi evet hayir gibi degerlendirecegiz\n",
    "# bw stands for best and worst"
   ]
  },
  {
   "cell_type": "code",
   "execution_count": 103,
   "id": "ffa6d13a-0cb8-4446-b2bf-2ddeb33edb6c",
   "metadata": {},
   "outputs": [],
   "source": [
    "yelpbw.reset_index(drop = True, inplace = True)"
   ]
  },
  {
   "cell_type": "code",
   "execution_count": 104,
   "id": "8f649bc1-1848-4855-ab0d-06ca2789bebe",
   "metadata": {},
   "outputs": [
    {
     "data": {
      "text/html": [
       "<div>\n",
       "<style scoped>\n",
       "    .dataframe tbody tr th:only-of-type {\n",
       "        vertical-align: middle;\n",
       "    }\n",
       "\n",
       "    .dataframe tbody tr th {\n",
       "        vertical-align: top;\n",
       "    }\n",
       "\n",
       "    .dataframe thead th {\n",
       "        text-align: right;\n",
       "    }\n",
       "</style>\n",
       "<table border=\"1\" class=\"dataframe\">\n",
       "  <thead>\n",
       "    <tr style=\"text-align: right;\">\n",
       "      <th></th>\n",
       "      <th>business_id</th>\n",
       "      <th>date</th>\n",
       "      <th>review_id</th>\n",
       "      <th>stars</th>\n",
       "      <th>text</th>\n",
       "      <th>type</th>\n",
       "      <th>user_id</th>\n",
       "      <th>cool</th>\n",
       "      <th>useful</th>\n",
       "      <th>funny</th>\n",
       "    </tr>\n",
       "  </thead>\n",
       "  <tbody>\n",
       "    <tr>\n",
       "      <th>3738</th>\n",
       "      <td>6Kon3cR5ZEm5rmYKlpcfcw</td>\n",
       "      <td>2011-05-06</td>\n",
       "      <td>Oh7UCF9eWZJlHuXHL1C4wQ</td>\n",
       "      <td>5</td>\n",
       "      <td>i love the valley ho its a beautiful property ...</td>\n",
       "      <td>review</td>\n",
       "      <td>3am2PwtajoR3LIlP7XZtbA</td>\n",
       "      <td>0</td>\n",
       "      <td>1</td>\n",
       "      <td>0</td>\n",
       "    </tr>\n",
       "    <tr>\n",
       "      <th>1169</th>\n",
       "      <td>Lfm0zMACRFYpUZR_xGMYAQ</td>\n",
       "      <td>2011-12-10</td>\n",
       "      <td>Wk8ta6FpCUduQ21bMzFZRA</td>\n",
       "      <td>5</td>\n",
       "      <td>yummy yummy yummy absolutely loved it  kick ba...</td>\n",
       "      <td>review</td>\n",
       "      <td>F6B-A5coQW7gGhi4sd_mkg</td>\n",
       "      <td>0</td>\n",
       "      <td>0</td>\n",
       "      <td>0</td>\n",
       "    </tr>\n",
       "  </tbody>\n",
       "</table>\n",
       "</div>"
      ],
      "text/plain": [
       "                 business_id        date               review_id  stars  \\\n",
       "3738  6Kon3cR5ZEm5rmYKlpcfcw  2011-05-06  Oh7UCF9eWZJlHuXHL1C4wQ      5   \n",
       "1169  Lfm0zMACRFYpUZR_xGMYAQ  2011-12-10  Wk8ta6FpCUduQ21bMzFZRA      5   \n",
       "\n",
       "                                                   text    type  \\\n",
       "3738  i love the valley ho its a beautiful property ...  review   \n",
       "1169  yummy yummy yummy absolutely loved it  kick ba...  review   \n",
       "\n",
       "                     user_id  cool  useful  funny  \n",
       "3738  3am2PwtajoR3LIlP7XZtbA     0       1      0  \n",
       "1169  F6B-A5coQW7gGhi4sd_mkg     0       0      0  "
      ]
     },
     "execution_count": 104,
     "metadata": {},
     "output_type": "execute_result"
    }
   ],
   "source": [
    "yelpbw.sample(2)"
   ]
  },
  {
   "cell_type": "code",
   "execution_count": 105,
   "id": "7ad123c6-90b2-4848-9bd8-a75d78721a82",
   "metadata": {},
   "outputs": [],
   "source": [
    "from sklearn.linear_model import LogisticRegression\n",
    "from sklearn.model_selection import train_test_split"
   ]
  },
  {
   "cell_type": "code",
   "execution_count": 106,
   "id": "48f0515f-547c-4093-b3a4-b4f22d04d499",
   "metadata": {},
   "outputs": [],
   "source": [
    "from sklearn.tree import DecisionTreeClassifier\n",
    "d = DecisionTreeClassifier()"
   ]
  },
  {
   "cell_type": "code",
   "execution_count": 107,
   "id": "f343d507-6bf2-44a1-920a-82db1c9e2b0b",
   "metadata": {},
   "outputs": [],
   "source": [
    "from nltk.stem import PorterStemmer\n",
    "pr = PorterStemmer()"
   ]
  },
  {
   "cell_type": "code",
   "execution_count": 108,
   "id": "55256d68-d098-4103-9d03-bcc3733b81b1",
   "metadata": {},
   "outputs": [],
   "source": [
    "def lemmafn(text):\n",
    "    words = TextBlob(text).words\n",
    "    return [pr.stem(word) for word in words]"
   ]
  },
  {
   "cell_type": "code",
   "execution_count": 109,
   "id": "43c5805c-da44-4772-b7a7-f19b855b8fa0",
   "metadata": {},
   "outputs": [],
   "source": [
    "vect = CountVectorizer(stop_words = 'english', ngram_range = (1, 2), max_features = 10000, analyzer = lemmafn)"
   ]
  },
  {
   "cell_type": "code",
   "execution_count": 110,
   "id": "85cab70d-d398-43d4-9297-12d17b18d40a",
   "metadata": {},
   "outputs": [],
   "source": [
    "x = yelpbw['text']\n",
    "y = yelpbw['stars']"
   ]
  },
  {
   "cell_type": "code",
   "execution_count": 111,
   "id": "2291833e-4854-45b2-9ed0-83932c584b7c",
   "metadata": {},
   "outputs": [],
   "source": [
    "x = vect.fit_transform(x)"
   ]
  },
  {
   "cell_type": "code",
   "execution_count": 112,
   "id": "d3c4cf07-2fea-4370-be3c-1a2e738cf633",
   "metadata": {},
   "outputs": [
    {
     "data": {
      "text/plain": [
       "<4086x10000 sparse matrix of type '<class 'numpy.int64'>'\n",
       "\twith 304857 stored elements in Compressed Sparse Row format>"
      ]
     },
     "execution_count": 112,
     "metadata": {},
     "output_type": "execute_result"
    }
   ],
   "source": [
    "x\n",
    "# 39179 tane kelime varmis"
   ]
  },
  {
   "cell_type": "code",
   "execution_count": 113,
   "id": "5bfb16c4-2e31-46d2-a843-6c0b7ae5f5ac",
   "metadata": {},
   "outputs": [],
   "source": [
    "x_train, x_test, y_train, y_test = train_test_split(x, y, random_state = 42, test_size = .2)"
   ]
  },
  {
   "cell_type": "code",
   "execution_count": 114,
   "id": "815b40b8-cb1a-40c9-bbc8-e0756b268a3b",
   "metadata": {},
   "outputs": [],
   "source": [
    "#tf=pd.DataFrame(vect.fit_transform(x_train).toarray(),columns=vect.get_feature_names_out())"
   ]
  },
  {
   "cell_type": "code",
   "execution_count": 115,
   "id": "2bfb5121-0fea-4cb6-8e31-aced712549d4",
   "metadata": {},
   "outputs": [],
   "source": [
    "#tf.shape"
   ]
  },
  {
   "cell_type": "code",
   "execution_count": 116,
   "id": "cb67efc9-777e-4cfb-92f9-fba9838a5fed",
   "metadata": {},
   "outputs": [],
   "source": [
    "l = LogisticRegression()"
   ]
  },
  {
   "cell_type": "code",
   "execution_count": 117,
   "id": "a91f9106-dba6-4495-9d04-4c6962129d3b",
   "metadata": {},
   "outputs": [
    {
     "data": {
      "text/html": [
       "<style>#sk-container-id-1 {color: black;background-color: white;}#sk-container-id-1 pre{padding: 0;}#sk-container-id-1 div.sk-toggleable {background-color: white;}#sk-container-id-1 label.sk-toggleable__label {cursor: pointer;display: block;width: 100%;margin-bottom: 0;padding: 0.3em;box-sizing: border-box;text-align: center;}#sk-container-id-1 label.sk-toggleable__label-arrow:before {content: \"▸\";float: left;margin-right: 0.25em;color: #696969;}#sk-container-id-1 label.sk-toggleable__label-arrow:hover:before {color: black;}#sk-container-id-1 div.sk-estimator:hover label.sk-toggleable__label-arrow:before {color: black;}#sk-container-id-1 div.sk-toggleable__content {max-height: 0;max-width: 0;overflow: hidden;text-align: left;background-color: #f0f8ff;}#sk-container-id-1 div.sk-toggleable__content pre {margin: 0.2em;color: black;border-radius: 0.25em;background-color: #f0f8ff;}#sk-container-id-1 input.sk-toggleable__control:checked~div.sk-toggleable__content {max-height: 200px;max-width: 100%;overflow: auto;}#sk-container-id-1 input.sk-toggleable__control:checked~label.sk-toggleable__label-arrow:before {content: \"▾\";}#sk-container-id-1 div.sk-estimator input.sk-toggleable__control:checked~label.sk-toggleable__label {background-color: #d4ebff;}#sk-container-id-1 div.sk-label input.sk-toggleable__control:checked~label.sk-toggleable__label {background-color: #d4ebff;}#sk-container-id-1 input.sk-hidden--visually {border: 0;clip: rect(1px 1px 1px 1px);clip: rect(1px, 1px, 1px, 1px);height: 1px;margin: -1px;overflow: hidden;padding: 0;position: absolute;width: 1px;}#sk-container-id-1 div.sk-estimator {font-family: monospace;background-color: #f0f8ff;border: 1px dotted black;border-radius: 0.25em;box-sizing: border-box;margin-bottom: 0.5em;}#sk-container-id-1 div.sk-estimator:hover {background-color: #d4ebff;}#sk-container-id-1 div.sk-parallel-item::after {content: \"\";width: 100%;border-bottom: 1px solid gray;flex-grow: 1;}#sk-container-id-1 div.sk-label:hover label.sk-toggleable__label {background-color: #d4ebff;}#sk-container-id-1 div.sk-serial::before {content: \"\";position: absolute;border-left: 1px solid gray;box-sizing: border-box;top: 0;bottom: 0;left: 50%;z-index: 0;}#sk-container-id-1 div.sk-serial {display: flex;flex-direction: column;align-items: center;background-color: white;padding-right: 0.2em;padding-left: 0.2em;position: relative;}#sk-container-id-1 div.sk-item {position: relative;z-index: 1;}#sk-container-id-1 div.sk-parallel {display: flex;align-items: stretch;justify-content: center;background-color: white;position: relative;}#sk-container-id-1 div.sk-item::before, #sk-container-id-1 div.sk-parallel-item::before {content: \"\";position: absolute;border-left: 1px solid gray;box-sizing: border-box;top: 0;bottom: 0;left: 50%;z-index: -1;}#sk-container-id-1 div.sk-parallel-item {display: flex;flex-direction: column;z-index: 1;position: relative;background-color: white;}#sk-container-id-1 div.sk-parallel-item:first-child::after {align-self: flex-end;width: 50%;}#sk-container-id-1 div.sk-parallel-item:last-child::after {align-self: flex-start;width: 50%;}#sk-container-id-1 div.sk-parallel-item:only-child::after {width: 0;}#sk-container-id-1 div.sk-dashed-wrapped {border: 1px dashed gray;margin: 0 0.4em 0.5em 0.4em;box-sizing: border-box;padding-bottom: 0.4em;background-color: white;}#sk-container-id-1 div.sk-label label {font-family: monospace;font-weight: bold;display: inline-block;line-height: 1.2em;}#sk-container-id-1 div.sk-label-container {text-align: center;}#sk-container-id-1 div.sk-container {/* jupyter's `normalize.less` sets `[hidden] { display: none; }` but bootstrap.min.css set `[hidden] { display: none !important; }` so we also need the `!important` here to be able to override the default hidden behavior on the sphinx rendered scikit-learn.org. See: https://github.com/scikit-learn/scikit-learn/issues/21755 */display: inline-block !important;position: relative;}#sk-container-id-1 div.sk-text-repr-fallback {display: none;}</style><div id=\"sk-container-id-1\" class=\"sk-top-container\"><div class=\"sk-text-repr-fallback\"><pre>LogisticRegression()</pre><b>In a Jupyter environment, please rerun this cell to show the HTML representation or trust the notebook. <br />On GitHub, the HTML representation is unable to render, please try loading this page with nbviewer.org.</b></div><div class=\"sk-container\" hidden><div class=\"sk-item\"><div class=\"sk-estimator sk-toggleable\"><input class=\"sk-toggleable__control sk-hidden--visually\" id=\"sk-estimator-id-1\" type=\"checkbox\" checked><label for=\"sk-estimator-id-1\" class=\"sk-toggleable__label sk-toggleable__label-arrow\">LogisticRegression</label><div class=\"sk-toggleable__content\"><pre>LogisticRegression()</pre></div></div></div></div></div>"
      ],
      "text/plain": [
       "LogisticRegression()"
      ]
     },
     "execution_count": 117,
     "metadata": {},
     "output_type": "execute_result"
    }
   ],
   "source": [
    "l.fit(x_train, y_train)"
   ]
  },
  {
   "cell_type": "code",
   "execution_count": 118,
   "id": "9ec343e2-2668-402e-8ce8-6dcb1ef34170",
   "metadata": {},
   "outputs": [
    {
     "data": {
      "text/html": [
       "<style>#sk-container-id-2 {color: black;background-color: white;}#sk-container-id-2 pre{padding: 0;}#sk-container-id-2 div.sk-toggleable {background-color: white;}#sk-container-id-2 label.sk-toggleable__label {cursor: pointer;display: block;width: 100%;margin-bottom: 0;padding: 0.3em;box-sizing: border-box;text-align: center;}#sk-container-id-2 label.sk-toggleable__label-arrow:before {content: \"▸\";float: left;margin-right: 0.25em;color: #696969;}#sk-container-id-2 label.sk-toggleable__label-arrow:hover:before {color: black;}#sk-container-id-2 div.sk-estimator:hover label.sk-toggleable__label-arrow:before {color: black;}#sk-container-id-2 div.sk-toggleable__content {max-height: 0;max-width: 0;overflow: hidden;text-align: left;background-color: #f0f8ff;}#sk-container-id-2 div.sk-toggleable__content pre {margin: 0.2em;color: black;border-radius: 0.25em;background-color: #f0f8ff;}#sk-container-id-2 input.sk-toggleable__control:checked~div.sk-toggleable__content {max-height: 200px;max-width: 100%;overflow: auto;}#sk-container-id-2 input.sk-toggleable__control:checked~label.sk-toggleable__label-arrow:before {content: \"▾\";}#sk-container-id-2 div.sk-estimator input.sk-toggleable__control:checked~label.sk-toggleable__label {background-color: #d4ebff;}#sk-container-id-2 div.sk-label input.sk-toggleable__control:checked~label.sk-toggleable__label {background-color: #d4ebff;}#sk-container-id-2 input.sk-hidden--visually {border: 0;clip: rect(1px 1px 1px 1px);clip: rect(1px, 1px, 1px, 1px);height: 1px;margin: -1px;overflow: hidden;padding: 0;position: absolute;width: 1px;}#sk-container-id-2 div.sk-estimator {font-family: monospace;background-color: #f0f8ff;border: 1px dotted black;border-radius: 0.25em;box-sizing: border-box;margin-bottom: 0.5em;}#sk-container-id-2 div.sk-estimator:hover {background-color: #d4ebff;}#sk-container-id-2 div.sk-parallel-item::after {content: \"\";width: 100%;border-bottom: 1px solid gray;flex-grow: 1;}#sk-container-id-2 div.sk-label:hover label.sk-toggleable__label {background-color: #d4ebff;}#sk-container-id-2 div.sk-serial::before {content: \"\";position: absolute;border-left: 1px solid gray;box-sizing: border-box;top: 0;bottom: 0;left: 50%;z-index: 0;}#sk-container-id-2 div.sk-serial {display: flex;flex-direction: column;align-items: center;background-color: white;padding-right: 0.2em;padding-left: 0.2em;position: relative;}#sk-container-id-2 div.sk-item {position: relative;z-index: 1;}#sk-container-id-2 div.sk-parallel {display: flex;align-items: stretch;justify-content: center;background-color: white;position: relative;}#sk-container-id-2 div.sk-item::before, #sk-container-id-2 div.sk-parallel-item::before {content: \"\";position: absolute;border-left: 1px solid gray;box-sizing: border-box;top: 0;bottom: 0;left: 50%;z-index: -1;}#sk-container-id-2 div.sk-parallel-item {display: flex;flex-direction: column;z-index: 1;position: relative;background-color: white;}#sk-container-id-2 div.sk-parallel-item:first-child::after {align-self: flex-end;width: 50%;}#sk-container-id-2 div.sk-parallel-item:last-child::after {align-self: flex-start;width: 50%;}#sk-container-id-2 div.sk-parallel-item:only-child::after {width: 0;}#sk-container-id-2 div.sk-dashed-wrapped {border: 1px dashed gray;margin: 0 0.4em 0.5em 0.4em;box-sizing: border-box;padding-bottom: 0.4em;background-color: white;}#sk-container-id-2 div.sk-label label {font-family: monospace;font-weight: bold;display: inline-block;line-height: 1.2em;}#sk-container-id-2 div.sk-label-container {text-align: center;}#sk-container-id-2 div.sk-container {/* jupyter's `normalize.less` sets `[hidden] { display: none; }` but bootstrap.min.css set `[hidden] { display: none !important; }` so we also need the `!important` here to be able to override the default hidden behavior on the sphinx rendered scikit-learn.org. See: https://github.com/scikit-learn/scikit-learn/issues/21755 */display: inline-block !important;position: relative;}#sk-container-id-2 div.sk-text-repr-fallback {display: none;}</style><div id=\"sk-container-id-2\" class=\"sk-top-container\"><div class=\"sk-text-repr-fallback\"><pre>DecisionTreeClassifier()</pre><b>In a Jupyter environment, please rerun this cell to show the HTML representation or trust the notebook. <br />On GitHub, the HTML representation is unable to render, please try loading this page with nbviewer.org.</b></div><div class=\"sk-container\" hidden><div class=\"sk-item\"><div class=\"sk-estimator sk-toggleable\"><input class=\"sk-toggleable__control sk-hidden--visually\" id=\"sk-estimator-id-2\" type=\"checkbox\" checked><label for=\"sk-estimator-id-2\" class=\"sk-toggleable__label sk-toggleable__label-arrow\">DecisionTreeClassifier</label><div class=\"sk-toggleable__content\"><pre>DecisionTreeClassifier()</pre></div></div></div></div></div>"
      ],
      "text/plain": [
       "DecisionTreeClassifier()"
      ]
     },
     "execution_count": 118,
     "metadata": {},
     "output_type": "execute_result"
    }
   ],
   "source": [
    "d.fit(x_train, y_train)"
   ]
  },
  {
   "cell_type": "code",
   "execution_count": 119,
   "id": "c1128e4b-e4b3-43ee-a9f8-4a6b158d9cab",
   "metadata": {},
   "outputs": [],
   "source": [
    "pred = l.predict(x_test)"
   ]
  },
  {
   "cell_type": "code",
   "execution_count": 120,
   "id": "779fe181-aa43-438f-b719-d86e0a390b57",
   "metadata": {},
   "outputs": [],
   "source": [
    "pred2 = d.predict(x_test)"
   ]
  },
  {
   "cell_type": "code",
   "execution_count": 121,
   "id": "c80f7c0b-9305-4352-abbd-6823d4a07cd9",
   "metadata": {},
   "outputs": [],
   "source": [
    "from sklearn.metrics import accuracy_score"
   ]
  },
  {
   "cell_type": "code",
   "execution_count": 122,
   "id": "4e42e396-b80d-494a-85e8-2c1b249cefdf",
   "metadata": {},
   "outputs": [
    {
     "data": {
      "text/plain": [
       "0.9229828850855746"
      ]
     },
     "execution_count": 122,
     "metadata": {},
     "output_type": "execute_result"
    }
   ],
   "source": [
    "accuracy_score(pred, y_test)"
   ]
  },
  {
   "cell_type": "code",
   "execution_count": 123,
   "id": "cee4b308-5292-4f21-84e4-27131a261d77",
   "metadata": {},
   "outputs": [
    {
     "data": {
      "text/plain": [
       "0.8190709046454768"
      ]
     },
     "execution_count": 123,
     "metadata": {},
     "output_type": "execute_result"
    }
   ],
   "source": [
    "accuracy_score(pred2, y_test)"
   ]
  },
  {
   "cell_type": "code",
   "execution_count": 124,
   "id": "5e5f4389-afe6-4c3f-b994-d5021e5db884",
   "metadata": {},
   "outputs": [],
   "source": [
    "from textblob import TextBlob"
   ]
  },
  {
   "cell_type": "code",
   "execution_count": 125,
   "id": "5c7210d6-a09c-4913-a786-4688ba17af52",
   "metadata": {},
   "outputs": [
    {
     "data": {
      "text/plain": [
       "Sentiment(polarity=0.5, subjectivity=0.6)"
      ]
     },
     "execution_count": 125,
     "metadata": {},
     "output_type": "execute_result"
    }
   ],
   "source": [
    "TextBlob('I love you').sentiment"
   ]
  },
  {
   "cell_type": "code",
   "execution_count": 126,
   "id": "e9c2ab4d-3342-4e6b-8668-02a041ed66fb",
   "metadata": {},
   "outputs": [
    {
     "data": {
      "text/plain": [
       "Sentiment(polarity=0.5, subjectivity=0.55)"
      ]
     },
     "execution_count": 126,
     "metadata": {},
     "output_type": "execute_result"
    }
   ],
   "source": [
    "TextBlob('I do love you more').sentiment"
   ]
  },
  {
   "cell_type": "code",
   "execution_count": 127,
   "id": "4901382f-580e-4891-bee3-2394de785c5a",
   "metadata": {},
   "outputs": [
    {
     "data": {
      "text/plain": [
       "Sentiment(polarity=1.0, subjectivity=0.3)"
      ]
     },
     "execution_count": 127,
     "metadata": {},
     "output_type": "execute_result"
    }
   ],
   "source": [
    "TextBlob('you are the best').sentiment"
   ]
  },
  {
   "cell_type": "code",
   "execution_count": 128,
   "id": "0b1b021f-9224-4b32-b92c-69d9b41f7c8e",
   "metadata": {},
   "outputs": [
    {
     "data": {
      "text/plain": [
       "Sentiment(polarity=0.0, subjectivity=0.0)"
      ]
     },
     "execution_count": 128,
     "metadata": {},
     "output_type": "execute_result"
    }
   ],
   "source": [
    "TextBlob('Trump is a liar').sentiment"
   ]
  },
  {
   "cell_type": "code",
   "execution_count": 129,
   "id": "9d937639-4e88-42a7-b014-afb429bca58f",
   "metadata": {},
   "outputs": [
    {
     "data": {
      "text/plain": [
       "Sentiment(polarity=-0.22007575757575754, subjectivity=0.5928030303030303)"
      ]
     },
     "execution_count": 129,
     "metadata": {},
     "output_type": "execute_result"
    }
   ],
   "source": [
    "TextBlob(df['text'][23]).sentiment"
   ]
  },
  {
   "cell_type": "code",
   "execution_count": 130,
   "id": "6beb083b-ea7b-4d91-81fa-8831613e4bd3",
   "metadata": {},
   "outputs": [
    {
     "data": {
      "text/plain": [
       "0       my wife took me here on my birthday for breakf...\n",
       "1       i have no idea why some people give bad review...\n",
       "2       love the gyro plate rice is so good and i also...\n",
       "3       rosie dakota and i love chaparral dog park its...\n",
       "4       general manager scott petello is a good egg no...\n",
       "                              ...                        \n",
       "9995    first visithad lunch here today  used my group...\n",
       "9996    should be called house of deliciousnessi could...\n",
       "9997    i recently visited olive and ivy for business ...\n",
       "9998    my nephew just moved to scottsdale recently so...\n",
       "9999     locations all  star average i think arizona r...\n",
       "Name: text, Length: 10000, dtype: object"
      ]
     },
     "execution_count": 130,
     "metadata": {},
     "output_type": "execute_result"
    }
   ],
   "source": [
    "df['text']"
   ]
  },
  {
   "cell_type": "code",
   "execution_count": 131,
   "id": "7a9238c1-d64d-4736-8770-01654624c5d4",
   "metadata": {},
   "outputs": [],
   "source": [
    "x = yelpbw['text']\n",
    "y = yelpbw['stars']"
   ]
  },
  {
   "cell_type": "code",
   "execution_count": 132,
   "id": "77d62ac4-dc29-44dc-9a7b-2192c8e4c638",
   "metadata": {},
   "outputs": [],
   "source": [
    "x_train, x_test, y_train, y_test = train_test_split(x, y, random_state = 42, test_size = .2)"
   ]
  },
  {
   "cell_type": "code",
   "execution_count": null,
   "id": "124e40d1-682c-4eeb-9b8b-1e86527a63ed",
   "metadata": {},
   "outputs": [],
   "source": []
  }
 ],
 "metadata": {
  "kernelspec": {
   "display_name": "Python 3 (ipykernel)",
   "language": "python",
   "name": "python3"
  },
  "language_info": {
   "codemirror_mode": {
    "name": "ipython",
    "version": 3
   },
   "file_extension": ".py",
   "mimetype": "text/x-python",
   "name": "python",
   "nbconvert_exporter": "python",
   "pygments_lexer": "ipython3",
   "version": "3.11.7"
  }
 },
 "nbformat": 4,
 "nbformat_minor": 5
}

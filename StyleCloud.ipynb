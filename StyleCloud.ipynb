{
 "cells": [
  {
   "cell_type": "code",
   "execution_count": null,
   "id": "466ebdc8-b96c-4fa0-b668-587c81050cdf",
   "metadata": {},
   "outputs": [],
   "source": [
    "!pip uninstall stylecloud"
   ]
  },
  {
   "cell_type": "code",
   "execution_count": 2,
   "id": "77387e5c-c82f-4944-964b-2ae9a0a93177",
   "metadata": {},
   "outputs": [],
   "source": [
    "pip install stylecloud"
   ]
  },
  {
   "cell_type": "code",
   "execution_count": 3,
   "id": "e6f7add7-e95a-4833-a982-deff3f02e9e0",
   "metadata": {},
   "outputs": [],
   "source": [
    "#pip install stylecloud --upgrade"
   ]
  },
  {
   "cell_type": "code",
   "execution_count": 4,
   "id": "db45acfe-d8d5-49fa-9be3-d2d89676c170",
   "metadata": {},
   "outputs": [
    {
     "name": "stdout",
     "output_type": "stream",
     "text": [
      "Name: stylecloud\n",
      "Version: 0.5.2\n",
      "Summary: Python package + CLI to generate stylistic wordclouds, including gradients and icon shapes!\n",
      "Home-page: https://github.com/minimaxir/stylecloud\n",
      "Author: Max Woolf\n",
      "Author-email: max@minimaxir.com\n",
      "License: MIT\n",
      "Location: C:\\Users\\fatih\\anaconda3\\Lib\\site-packages\n",
      "Requires: fire, icon-font-to-png, matplotlib, palettable, wordcloud\n",
      "Required-by: \n",
      "Note: you may need to restart the kernel to use updated packages.\n"
     ]
    }
   ],
   "source": [
    "pip show stylecloud"
   ]
  },
  {
   "cell_type": "code",
   "execution_count": 5,
   "id": "e4203b6f-a48c-4f4d-908e-41ef0ed62459",
   "metadata": {},
   "outputs": [
    {
     "name": "stdout",
     "output_type": "stream",
     "text": [
      "9.5.0\n"
     ]
    }
   ],
   "source": [
    "import PIL\n",
    "print(PIL.__version__)"
   ]
  },
  {
   "cell_type": "code",
   "execution_count": 10,
   "id": "94c0d218-9437-4f4b-907f-a7b95284dab1",
   "metadata": {},
   "outputs": [
    {
     "name": "stdout",
     "output_type": "stream",
     "text": [
      "Requirement already satisfied: stylecloud in c:\\users\\fatih\\anaconda3\\lib\\site-packages (0.5.2)\n",
      "Requirement already satisfied: wordcloud in c:\\users\\fatih\\anaconda3\\lib\\site-packages (from stylecloud) (1.9.3)\n",
      "Requirement already satisfied: icon-font-to-png in c:\\users\\fatih\\anaconda3\\lib\\site-packages (from stylecloud) (0.4.1)\n",
      "Requirement already satisfied: palettable in c:\\users\\fatih\\anaconda3\\lib\\site-packages (from stylecloud) (3.3.3)\n",
      "Requirement already satisfied: fire in c:\\users\\fatih\\anaconda3\\lib\\site-packages (from stylecloud) (0.6.0)\n",
      "Requirement already satisfied: matplotlib in c:\\users\\fatih\\anaconda3\\lib\\site-packages (from stylecloud) (3.9.1)\n",
      "Requirement already satisfied: six in c:\\users\\fatih\\anaconda3\\lib\\site-packages (from fire->stylecloud) (1.16.0)\n",
      "Requirement already satisfied: termcolor in c:\\users\\fatih\\anaconda3\\lib\\site-packages (from fire->stylecloud) (2.4.0)\n",
      "Requirement already satisfied: Pillow>=4.0.0 in c:\\users\\fatih\\anaconda3\\lib\\site-packages (from icon-font-to-png->stylecloud) (9.5.0)\n",
      "Requirement already satisfied: requests>=2.12.5 in c:\\users\\fatih\\anaconda3\\lib\\site-packages (from icon-font-to-png->stylecloud) (2.31.0)\n",
      "Requirement already satisfied: tinycss>=0.4 in c:\\users\\fatih\\anaconda3\\lib\\site-packages (from icon-font-to-png->stylecloud) (0.4)\n",
      "Requirement already satisfied: contourpy>=1.0.1 in c:\\users\\fatih\\anaconda3\\lib\\site-packages (from matplotlib->stylecloud) (1.2.0)\n",
      "Requirement already satisfied: cycler>=0.10 in c:\\users\\fatih\\anaconda3\\lib\\site-packages (from matplotlib->stylecloud) (0.11.0)\n",
      "Requirement already satisfied: fonttools>=4.22.0 in c:\\users\\fatih\\anaconda3\\lib\\site-packages (from matplotlib->stylecloud) (4.25.0)\n",
      "Requirement already satisfied: kiwisolver>=1.3.1 in c:\\users\\fatih\\anaconda3\\lib\\site-packages (from matplotlib->stylecloud) (1.4.4)\n",
      "Requirement already satisfied: numpy>=1.23 in c:\\users\\fatih\\anaconda3\\lib\\site-packages (from matplotlib->stylecloud) (1.26.4)\n",
      "Requirement already satisfied: packaging>=20.0 in c:\\users\\fatih\\anaconda3\\lib\\site-packages (from matplotlib->stylecloud) (23.1)\n",
      "Requirement already satisfied: pyparsing>=2.3.1 in c:\\users\\fatih\\anaconda3\\lib\\site-packages (from matplotlib->stylecloud) (3.0.9)\n",
      "Requirement already satisfied: python-dateutil>=2.7 in c:\\users\\fatih\\anaconda3\\lib\\site-packages (from matplotlib->stylecloud) (2.8.2)\n",
      "Requirement already satisfied: charset-normalizer<4,>=2 in c:\\users\\fatih\\anaconda3\\lib\\site-packages (from requests>=2.12.5->icon-font-to-png->stylecloud) (2.0.4)\n",
      "Requirement already satisfied: idna<4,>=2.5 in c:\\users\\fatih\\anaconda3\\lib\\site-packages (from requests>=2.12.5->icon-font-to-png->stylecloud) (2.10)\n",
      "Requirement already satisfied: urllib3<3,>=1.21.1 in c:\\users\\fatih\\anaconda3\\lib\\site-packages (from requests>=2.12.5->icon-font-to-png->stylecloud) (2.0.7)\n",
      "Requirement already satisfied: certifi>=2017.4.17 in c:\\users\\fatih\\anaconda3\\lib\\site-packages (from requests>=2.12.5->icon-font-to-png->stylecloud) (2024.2.2)\n",
      "Note: you may need to restart the kernel to use updated packages.\n"
     ]
    }
   ],
   "source": [
    "#pip install stylecloud"
   ]
  },
  {
   "cell_type": "code",
   "execution_count": 3,
   "id": "fd712f2d-54b2-48f8-a0f2-85966928680c",
   "metadata": {},
   "outputs": [
    {
     "ename": "IndentationError",
     "evalue": "expected an indented block after 'while' statement on line 119 (icon_font.py, line 120)",
     "output_type": "error",
     "traceback": [
      "Traceback \u001b[1;36m(most recent call last)\u001b[0m:\n",
      "\u001b[0m  File \u001b[0;32m~\\anaconda3\\Lib\\site-packages\\IPython\\core\\interactiveshell.py:3553\u001b[0m in \u001b[0;35mrun_code\u001b[0m\n    exec(code_obj, self.user_global_ns, self.user_ns)\u001b[0m\n",
      "\u001b[0m  Cell \u001b[0;32mIn[3], line 1\u001b[0m\n    import stylecloud\u001b[0m\n",
      "\u001b[0m  File \u001b[0;32m~\\anaconda3\\Lib\\site-packages\\stylecloud\\__init__.py:1\u001b[0m\n    from .stylecloud import gen_stylecloud\u001b[0m\n",
      "\u001b[0m  File \u001b[0;32m~\\anaconda3\\Lib\\site-packages\\stylecloud\\stylecloud.py:1\u001b[0m\n    from icon_font_to_png.icon_font import IconFont\u001b[0m\n",
      "\u001b[1;36m  File \u001b[1;32m~\\anaconda3\\Lib\\site-packages\\icon_font_to_png\\__init__.py:4\u001b[1;36m\n\u001b[1;33m    from icon_font_to_png.icon_font import IconFont  # noqa\u001b[1;36m\n",
      "\u001b[1;36m  File \u001b[1;32m~\\anaconda3\\Lib\\site-packages\\icon_font_to_png\\icon_font.py:120\u001b[1;36m\u001b[0m\n\u001b[1;33m    bbox = draw.textbbox((0, 0), self.css_icons[icon], font=font)\u001b[0m\n\u001b[1;37m    ^\u001b[0m\n\u001b[1;31mIndentationError\u001b[0m\u001b[1;31m:\u001b[0m expected an indented block after 'while' statement on line 119\n"
     ]
    }
   ],
   "source": [
    "import stylecloud"
   ]
  },
  {
   "cell_type": "code",
   "execution_count": 8,
   "id": "19e54c4a-26b2-41f6-ac30-95d98983cc36",
   "metadata": {},
   "outputs": [
    {
     "ename": "IndentationError",
     "evalue": "expected an indented block after 'while' statement on line 119 (icon_font.py, line 120)",
     "output_type": "error",
     "traceback": [
      "Traceback \u001b[1;36m(most recent call last)\u001b[0m:\n",
      "\u001b[0m  File \u001b[0;32m~\\anaconda3\\Lib\\site-packages\\IPython\\core\\interactiveshell.py:3553\u001b[0m in \u001b[0;35mrun_code\u001b[0m\n    exec(code_obj, self.user_global_ns, self.user_ns)\u001b[0m\n",
      "\u001b[0m  Cell \u001b[0;32mIn[8], line 1\u001b[0m\n    import stylecloud as sc\u001b[0m\n",
      "\u001b[0m  File \u001b[0;32m~\\anaconda3\\Lib\\site-packages\\stylecloud\\__init__.py:1\u001b[0m\n    from .stylecloud import gen_stylecloud\u001b[0m\n",
      "\u001b[0m  File \u001b[0;32m~\\anaconda3\\Lib\\site-packages\\stylecloud\\stylecloud.py:1\u001b[0m\n    from icon_font_to_png.icon_font import IconFont\u001b[0m\n",
      "\u001b[1;36m  File \u001b[1;32m~\\anaconda3\\Lib\\site-packages\\icon_font_to_png\\__init__.py:4\u001b[1;36m\n\u001b[1;33m    from icon_font_to_png.icon_font import IconFont  # noqa\u001b[1;36m\n",
      "\u001b[1;36m  File \u001b[1;32m~\\anaconda3\\Lib\\site-packages\\icon_font_to_png\\icon_font.py:120\u001b[1;36m\u001b[0m\n\u001b[1;33m    bbox = draw.textbbox((0, 0), self.css_icons[icon], font=font)\u001b[0m\n\u001b[1;37m    ^\u001b[0m\n\u001b[1;31mIndentationError\u001b[0m\u001b[1;31m:\u001b[0m expected an indented block after 'while' statement on line 119\n"
     ]
    }
   ],
   "source": [
    "\n",
    "sc.gen_stylecloud('challenge.txt', output_name = 'ch.png')"
   ]
  },
  {
   "cell_type": "code",
   "execution_count": null,
   "id": "5c31826c-5d03-4a66-bb75-f6b3d8f4159f",
   "metadata": {},
   "outputs": [],
   "source": [
    "#!pip install --upgrade pillow"
   ]
  },
  {
   "cell_type": "code",
   "execution_count": null,
   "id": "cd69534d-2197-4586-b78f-faa514214c6e",
   "metadata": {},
   "outputs": [],
   "source": [
    "sc.gen_stylecloud(file_path='challenge.txt', output_name='ch.png')"
   ]
  },
  {
   "cell_type": "code",
   "execution_count": null,
   "id": "5e2e844d-2438-434a-a77f-d8ed5b5c2a45",
   "metadata": {},
   "outputs": [],
   "source": []
  }
 ],
 "metadata": {
  "kernelspec": {
   "display_name": "Python 3 (ipykernel)",
   "language": "python",
   "name": "python3"
  },
  "language_info": {
   "codemirror_mode": {
    "name": "ipython",
    "version": 3
   },
   "file_extension": ".py",
   "mimetype": "text/x-python",
   "name": "python",
   "nbconvert_exporter": "python",
   "pygments_lexer": "ipython3",
   "version": "3.11.7"
  }
 },
 "nbformat": 4,
 "nbformat_minor": 5
}
